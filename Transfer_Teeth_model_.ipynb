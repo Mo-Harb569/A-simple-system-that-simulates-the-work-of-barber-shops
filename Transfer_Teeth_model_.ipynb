{
  "nbformat": 4,
  "nbformat_minor": 0,
  "metadata": {
    "colab": {
      "provenance": [],
      "gpuType": "T4",
      "authorship_tag": "ABX9TyMG733GZrkIdCW/3oS5/nTB",
      "include_colab_link": true
    },
    "kernelspec": {
      "name": "python3",
      "display_name": "Python 3"
    },
    "language_info": {
      "name": "python"
    },
    "accelerator": "GPU"
  },
  "cells": [
    {
      "cell_type": "markdown",
      "metadata": {
        "id": "view-in-github",
        "colab_type": "text"
      },
      "source": [
        "<a href=\"https://colab.research.google.com/github/Mo-Harb569/A-simple-system-that-simulates-the-work-of-barber-shops/blob/main/Transfer_Teeth_model_.ipynb\" target=\"_parent\"><img src=\"https://colab.research.google.com/assets/colab-badge.svg\" alt=\"Open In Colab\"/></a>"
      ]
    },
    {
      "cell_type": "code",
      "execution_count": null,
      "metadata": {
        "id": "cwMPIXMfdZDk"
      },
      "outputs": [],
      "source": [
        "import numpy as np\n",
        "import pandas as pd\n",
        "import matplotlib.pyplot as plt\n",
        "import tensorflow as tf\n",
        "import os\n",
        "from tensorflow import keras\n",
        "from tensorflow.keras import layers\n",
        "from tensorflow.keras.layers import Dense, Conv2D, MaxPooling2D, Flatten, Dropout\n",
        "from tensorflow.keras.preprocessing.image import ImageDataGenerator\n",
        "from tensorflow.keras.layers import BatchNormalization\n",
        "from tensorflow.keras.layers import Activation\n",
        "from tensorflow.keras.models import Model\n",
        "from tensorflow.keras.layers import Dense,Dropout\n",
        "from sklearn.utils import class_weight\n",
        "from tensorflow.keras import losses\n",
        "from tensorflow.keras.applications.mobilenet_v2 import preprocess_input\n",
        "from tensorflow.keras.callbacks import EarlyStopping, ModelCheckpoint\n",
        "from tensorflow.keras.models import Sequential\n",
        "from sklearn.utils import class_weight\n",
        "from sklearn.utils import class_weight\n"
      ]
    },
    {
      "cell_type": "markdown",
      "source": [],
      "metadata": {
        "id": "ePaO2bY_QaKo"
      }
    },
    {
      "cell_type": "code",
      "source": [
        "\n",
        "\n",
        "from google.colab import drive\n",
        "drive.mount('/content/drive')\n"
      ],
      "metadata": {
        "colab": {
          "base_uri": "https://localhost:8080/"
        },
        "id": "ZPWtLiC3de3S",
        "outputId": "ec4b343a-c9c9-4447-8f3a-a8c8fb24473c"
      },
      "execution_count": null,
      "outputs": [
        {
          "output_type": "stream",
          "name": "stdout",
          "text": [
            "Drive already mounted at /content/drive; to attempt to forcibly remount, call drive.mount(\"/content/drive\", force_remount=True).\n"
          ]
        }
      ]
    },
    {
      "cell_type": "code",
      "source": [
        "!unzip \"/content/drive/MyDrive/Teeth DataSet.zip\" -d \"/content/New_Data_EX8\"\n"
      ],
      "metadata": {
        "colab": {
          "base_uri": "https://localhost:8080/"
        },
        "id": "A2tZYpKmdg7x",
        "outputId": "8b55ea30-87a0-4c80-9611-7f7f85b3c3ad"
      },
      "execution_count": null,
      "outputs": [
        {
          "output_type": "stream",
          "name": "stdout",
          "text": [
            "Archive:  /content/drive/MyDrive/Teeth DataSet.zip\n",
            "replace /content/New_Data_EX8/Teeth_Dataset/Testing/OC/oc_1239_0_6735.jpg? [y]es, [n]o, [A]ll, [N]one, [r]ename: N\n",
            "  inflating: /content/New_Data_EX8/Teeth_Dataset/Testing/output_image.jpg  \n",
            "  inflating: /content/New_Data_EX8/Teeth_Dataset/Testing/outputs/a_81_0_9781.jpg  \n",
            "  inflating: /content/New_Data_EX8/Teeth_Dataset/Testing/outputs/a_86_0_774.jpg  \n",
            "  inflating: /content/New_Data_EX8/Teeth_Dataset/Testing/outputs/a_81_0_9451.jpg  \n",
            "  inflating: /content/New_Data_EX8/Teeth_Dataset/Testing/outputs/a_81_0_2986.jpg  \n",
            "  inflating: /content/New_Data_EX8/Teeth_Dataset/Testing/outputs/a_151_0_6880.jpg  \n",
            "  inflating: /content/New_Data_EX8/Teeth_Dataset/Testing/outputs/a_126_0_9339.jpg  \n",
            "  inflating: /content/New_Data_EX8/Teeth_Dataset/Testing/outputs/a_151_0_6976.jpg  \n",
            "  inflating: /content/New_Data_EX8/Teeth_Dataset/Testing/outputs/a_80_0_8374.jpg  \n",
            "  inflating: /content/New_Data_EX8/Teeth_Dataset/Testing/outputs/a_152_0_7749.jpg  \n",
            "  inflating: /content/New_Data_EX8/Teeth_Dataset/Testing/outputs/a_107_0_6524.jpg  \n",
            "  inflating: /content/New_Data_EX8/Teeth_Dataset/Testing/outputs/a_152_0_7313.jpg  \n",
            "  inflating: /content/New_Data_EX8/Teeth_Dataset/Testing/outputs/a_126_0_8475.jpg  \n",
            "  inflating: /content/New_Data_EX8/Teeth_Dataset/Testing/outputs/a_86_0_1179.jpg  \n",
            "  inflating: /content/New_Data_EX8/Teeth_Dataset/Testing/outputs/a_139_0_7520.jpg  \n",
            "  inflating: /content/New_Data_EX8/Teeth_Dataset/Testing/outputs/a_145_0_1709.jpg  \n",
            "  inflating: /content/New_Data_EX8/Teeth_Dataset/Testing/outputs/a_145_0_219.jpg  \n",
            "  inflating: /content/New_Data_EX8/Teeth_Dataset/Testing/outputs/a_119_0_1965.jpg  \n",
            "  inflating: /content/New_Data_EX8/Teeth_Dataset/Testing/outputs/a_96_0_5724.jpg  \n",
            "  inflating: /content/New_Data_EX8/Teeth_Dataset/Testing/outputs/a_131_0_2039.jpg  \n",
            "  inflating: /content/New_Data_EX8/Teeth_Dataset/Testing/outputs/a_126_0_8781.jpg  \n",
            "  inflating: /content/New_Data_EX8/Teeth_Dataset/Testing/outputs/a_139_0_9997.jpg  \n",
            "  inflating: /content/New_Data_EX8/Teeth_Dataset/Testing/outputs/a_140_0_7915.jpg  \n",
            "  inflating: /content/New_Data_EX8/Teeth_Dataset/Testing/outputs/a_114_0_620.jpg  \n",
            "  inflating: /content/New_Data_EX8/Teeth_Dataset/Testing/outputs/a_96_0_5475.jpg  \n",
            "  inflating: /content/New_Data_EX8/Teeth_Dataset/Testing/outputs/a_119_0_3025.jpg  \n",
            "  inflating: /content/New_Data_EX8/Teeth_Dataset/Testing/outputs/a_131_0_3960.jpg  \n",
            "  inflating: /content/New_Data_EX8/Teeth_Dataset/Testing/outputs/a_82_0_9450.jpg  \n",
            "  inflating: /content/New_Data_EX8/Teeth_Dataset/Testing/outputs/a_107_0_6474.jpg  \n",
            "  inflating: /content/New_Data_EX8/Teeth_Dataset/Testing/outputs/a_114_0_653.jpg  \n",
            "  inflating: /content/New_Data_EX8/Teeth_Dataset/Testing/outputs/a_131_0_2158.jpg  \n",
            "  inflating: /content/New_Data_EX8/Teeth_Dataset/Testing/outputs/a_146_0_3131.jpg  \n",
            "  inflating: /content/New_Data_EX8/Teeth_Dataset/Testing/outputs/a_95_0_5360.jpg  \n",
            "  inflating: /content/New_Data_EX8/Teeth_Dataset/Testing/outputs/a_92_0_8203.jpg  \n",
            "  inflating: /content/New_Data_EX8/Teeth_Dataset/Testing/outputs/a_92_0_3742.jpg  \n",
            "  inflating: /content/New_Data_EX8/Teeth_Dataset/Testing/outputs/a_92_0_2957.jpg  \n",
            "  inflating: /content/New_Data_EX8/Teeth_Dataset/Testing/outputs/a_95_0_5530.jpg  \n",
            "  inflating: /content/New_Data_EX8/Teeth_Dataset/Testing/outputs/a_146_0_3107.jpg  \n",
            "  inflating: /content/New_Data_EX8/Teeth_Dataset/Testing/outputs/a_118_0_1895.jpg  \n",
            "  inflating: /content/New_Data_EX8/Teeth_Dataset/Testing/outputs/a_118_0_3270.jpg  \n",
            "  inflating: /content/New_Data_EX8/Teeth_Dataset/Testing/outputs/a_79_0_8011.jpg  \n",
            "  inflating: /content/New_Data_EX8/Teeth_Dataset/Testing/outputs/a_97_0_8036.jpg  \n",
            "  inflating: /content/New_Data_EX8/Teeth_Dataset/Testing/outputs/a_88_0_1420.jpg  \n",
            "  inflating: /content/New_Data_EX8/Teeth_Dataset/Testing/outputs/a_143_0_9600.jpg  \n",
            "  inflating: /content/New_Data_EX8/Teeth_Dataset/Testing/outputs/a_124_0_7258.jpg  \n",
            "  inflating: /content/New_Data_EX8/Teeth_Dataset/Testing/outputs/a_124_0_7362.jpg  \n",
            "  inflating: /content/New_Data_EX8/Teeth_Dataset/Testing/outputs/a_97_0_8056.jpg  \n",
            "  inflating: /content/New_Data_EX8/Teeth_Dataset/Testing/outputs/a_132_0_1612.jpg  \n",
            "  inflating: /content/New_Data_EX8/Teeth_Dataset/Testing/outputs/a_118_0_6287.jpg  \n",
            "  inflating: /content/New_Data_EX8/Teeth_Dataset/Testing/outputs/a_88_0_2226.jpg  \n",
            "  inflating: /content/New_Data_EX8/Teeth_Dataset/Testing/outputs/a_137_0_9558.jpg  \n",
            "  inflating: /content/New_Data_EX8/Teeth_Dataset/Testing/outputs/a_143_0_9688.jpg  \n",
            "  inflating: /content/New_Data_EX8/Teeth_Dataset/Testing/outputs/a_135_0_7749.jpg  \n",
            "  inflating: /content/New_Data_EX8/Teeth_Dataset/Testing/outputs/a_137_0_7634.jpg  \n",
            "  inflating: /content/New_Data_EX8/Teeth_Dataset/Testing/output/a_81_0_9781.jpg  \n",
            "  inflating: /content/New_Data_EX8/Teeth_Dataset/Testing/outputs/a_135_0_6667.jpg  \n",
            "  inflating: /content/New_Data_EX8/Teeth_Dataset/Testing/outputs/a_153_0_9586.jpg  \n",
            "  inflating: /content/New_Data_EX8/Teeth_Dataset/Testing/outputs/a_157_0_1029.jpg  \n",
            "  inflating: /content/New_Data_EX8/Teeth_Dataset/Testing/outputs/a_137_0_7519.jpg  \n",
            "  inflating: /content/New_Data_EX8/Teeth_Dataset/Testing/output/a_81_0_2986.jpg  \n",
            "  inflating: /content/New_Data_EX8/Teeth_Dataset/Testing/outputs/a_153_0_9411.jpg  \n",
            "  inflating: /content/New_Data_EX8/Teeth_Dataset/Testing/outputs/a_84_0_443.jpg  \n",
            "  inflating: /content/New_Data_EX8/Teeth_Dataset/Testing/output/a_81_0_9451.jpg  \n",
            "  inflating: /content/New_Data_EX8/Teeth_Dataset/Testing/output/a_145_0_1709.jpg  \n",
            "  inflating: /content/New_Data_EX8/Teeth_Dataset/Testing/outputs/a_84_0_659.jpg  \n",
            "  inflating: /content/New_Data_EX8/Teeth_Dataset/Testing/output/a_86_0_1179.jpg  \n",
            "  inflating: /content/New_Data_EX8/Teeth_Dataset/Testing/outputs/a_94_0_2748.jpg  \n",
            "  inflating: /content/New_Data_EX8/Teeth_Dataset/Testing/output/a_151_0_6976.jpg  \n",
            "  inflating: /content/New_Data_EX8/Teeth_Dataset/Testing/output/a_151_0_6880.jpg  \n",
            "  inflating: /content/New_Data_EX8/Teeth_Dataset/Testing/output/a_80_0_8374.jpg  \n",
            "  inflating: /content/New_Data_EX8/Teeth_Dataset/Testing/outputs/a_109_0_9333.jpg  \n",
            "  inflating: /content/New_Data_EX8/Teeth_Dataset/Testing/outputs/a_94_0_3423.jpg  \n",
            "  inflating: /content/New_Data_EX8/Teeth_Dataset/Testing/output/a_126_0_9339.jpg  \n",
            "  inflating: /content/New_Data_EX8/Teeth_Dataset/Testing/output/a_86_0_774.jpg  \n",
            "  inflating: /content/New_Data_EX8/Teeth_Dataset/Testing/outputs/a_147_0_2391.jpg  \n",
            "  inflating: /content/New_Data_EX8/Teeth_Dataset/Testing/output/a_126_0_8781.jpg  \n",
            "  inflating: /content/New_Data_EX8/Teeth_Dataset/Testing/outputs/a_109_0_9048.jpg  \n",
            "  inflating: /content/New_Data_EX8/Teeth_Dataset/Testing/outputs/a_106_0_4879.jpg  \n",
            "  inflating: /content/New_Data_EX8/Teeth_Dataset/Testing/output/a_96_0_5724.jpg  \n",
            "  inflating: /content/New_Data_EX8/Teeth_Dataset/Testing/output/a_152_0_7749.jpg  \n",
            "  inflating: /content/New_Data_EX8/Teeth_Dataset/Testing/outputs/a_147_0_1538.jpg  \n",
            "  inflating: /content/New_Data_EX8/Teeth_Dataset/Testing/output/a_152_0_7313.jpg  \n",
            "  inflating: /content/New_Data_EX8/Teeth_Dataset/Testing/output/a_126_0_8475.jpg  \n",
            "  inflating: /content/New_Data_EX8/Teeth_Dataset/Testing/outputs/a_106_0_4867.jpg  \n",
            "  inflating: /content/New_Data_EX8/Teeth_Dataset/Testing/outputs/a_157_0_1367.jpg  \n",
            "  inflating: /content/New_Data_EX8/Teeth_Dataset/Testing/output/a_107_0_6524.jpg  \n",
            "  inflating: /content/New_Data_EX8/Teeth_Dataset/Testing/outputs/a_110_0_9790.jpg  \n",
            "  inflating: /content/New_Data_EX8/Teeth_Dataset/Testing/output/a_139_0_9997.jpg  \n",
            "  inflating: /content/New_Data_EX8/Teeth_Dataset/Testing/output/a_96_0_5475.jpg  \n",
            "  inflating: /content/New_Data_EX8/Teeth_Dataset/Testing/output/a_140_0_7915.jpg  \n",
            "  inflating: /content/New_Data_EX8/Teeth_Dataset/Testing/output/a_107_0_6474.jpg  \n",
            "  inflating: /content/New_Data_EX8/Teeth_Dataset/Testing/outputs/a_110_0_9820.jpg  \n",
            "  inflating: /content/New_Data_EX8/Teeth_Dataset/Testing/outputs/a_141_0_7620.jpg  \n",
            "  inflating: /content/New_Data_EX8/Teeth_Dataset/Testing/outputs/a_99_0_9803.jpg  \n",
            "  inflating: /content/New_Data_EX8/Teeth_Dataset/Testing/output/a_145_0_219.jpg  \n",
            "  inflating: /content/New_Data_EX8/Teeth_Dataset/Testing/output/a_119_0_1965.jpg  \n",
            "  inflating: /content/New_Data_EX8/Teeth_Dataset/Testing/output/a_139_0_7520.jpg  \n",
            "  inflating: /content/New_Data_EX8/Teeth_Dataset/Testing/output/a_119_0_3025.jpg  \n",
            "  inflating: /content/New_Data_EX8/Teeth_Dataset/Testing/outputs/a_102_0_2539.jpg  \n",
            "  inflating: /content/New_Data_EX8/Teeth_Dataset/Testing/outputs/a_102_0_1227.jpg  \n",
            "  inflating: /content/New_Data_EX8/Teeth_Dataset/Testing/output/a_131_0_3960.jpg  \n",
            "  inflating: /content/New_Data_EX8/Teeth_Dataset/Testing/outputs/a_141_0_7647.jpg  \n",
            "  inflating: /content/New_Data_EX8/Teeth_Dataset/Testing/output/a_82_0_9450.jpg  \n",
            "  inflating: /content/New_Data_EX8/Teeth_Dataset/Testing/outputs/a_120_0_4286.jpg  \n",
            "  inflating: /content/New_Data_EX8/Teeth_Dataset/Testing/output/a_131_0_2158.jpg  \n",
            "  inflating: /content/New_Data_EX8/Teeth_Dataset/Testing/output/a_131_0_2039.jpg  \n",
            "  inflating: /content/New_Data_EX8/Teeth_Dataset/Testing/outputs/a_120_0_4103.jpg  \n",
            "  inflating: /content/New_Data_EX8/Teeth_Dataset/Testing/outputs/a_150_0_4485.jpg  \n",
            "  inflating: /content/New_Data_EX8/Teeth_Dataset/Testing/output/a_114_0_653.jpg  \n",
            "  inflating: /content/New_Data_EX8/Teeth_Dataset/Testing/outputs/a_156_0_1345.jpg  \n",
            "  inflating: /content/New_Data_EX8/Teeth_Dataset/Testing/output/a_92_0_2957.jpg  \n",
            "  inflating: /content/New_Data_EX8/Teeth_Dataset/Testing/outputs/a_150_0_4874.jpg  \n",
            "  inflating: /content/New_Data_EX8/Teeth_Dataset/Testing/output/a_146_0_3131.jpg  \n",
            "  inflating: /content/New_Data_EX8/Teeth_Dataset/Testing/outputs/a_138_0_7701.jpg  \n",
            "  inflating: /content/New_Data_EX8/Teeth_Dataset/Testing/outputs/a_138_0_4841.jpg  \n",
            "  inflating: /content/New_Data_EX8/Teeth_Dataset/Testing/outputs/a_90_0_6050.jpg  \n",
            "  inflating: /content/New_Data_EX8/Teeth_Dataset/Testing/output/a_146_0_3107.jpg  \n",
            "  inflating: /content/New_Data_EX8/Teeth_Dataset/Testing/output/a_114_0_620.jpg  \n",
            "  inflating: /content/New_Data_EX8/Teeth_Dataset/Testing/outputs/a_156_0_102.jpg  \n",
            "  inflating: /content/New_Data_EX8/Teeth_Dataset/Testing/outputs/a_90_0_2489.jpg  \n",
            "  inflating: /content/New_Data_EX8/Teeth_Dataset/Testing/outputs/a_123_0_5980.jpg  \n",
            "  inflating: /content/New_Data_EX8/Teeth_Dataset/Testing/output/a_92_0_8203.jpg  \n",
            "  inflating: /content/New_Data_EX8/Teeth_Dataset/Testing/output/a_95_0_5530.jpg  \n",
            "  inflating: /content/New_Data_EX8/Teeth_Dataset/Testing/output/a_95_0_5360.jpg  \n",
            "  inflating: /content/New_Data_EX8/Teeth_Dataset/Testing/outputs/a_127_0_4168.jpg  \n",
            "  inflating: /content/New_Data_EX8/Teeth_Dataset/Testing/output/a_118_0_6287.jpg  \n",
            "  inflating: /content/New_Data_EX8/Teeth_Dataset/Testing/output/a_118_0_3270.jpg  \n",
            "  inflating: /content/New_Data_EX8/Teeth_Dataset/Testing/output/a_118_0_1895.jpg  \n",
            "  inflating: /content/New_Data_EX8/Teeth_Dataset/Testing/outputs/a_127_0_7838.jpg  \n",
            "  inflating: /content/New_Data_EX8/Teeth_Dataset/Testing/outputs/a_136_0_5202.jpg  \n",
            "  inflating: /content/New_Data_EX8/Teeth_Dataset/Testing/outputs/a_136_0_5103.jpg  \n",
            "  inflating: /content/New_Data_EX8/Teeth_Dataset/Testing/output/a_79_0_8011.jpg  \n",
            "  inflating: /content/New_Data_EX8/Teeth_Dataset/Testing/output/a_124_0_7362.jpg  \n",
            "  inflating: /content/New_Data_EX8/Teeth_Dataset/Testing/output/a_92_0_3742.jpg  \n",
            "  inflating: /content/New_Data_EX8/Teeth_Dataset/Testing/output/a_124_0_7258.jpg  \n",
            "  inflating: /content/New_Data_EX8/Teeth_Dataset/Testing/outputs/a_123_0_5961.jpg  \n",
            "  inflating: /content/New_Data_EX8/Teeth_Dataset/Testing/output/a_143_0_9688.jpg  \n",
            "  inflating: /content/New_Data_EX8/Teeth_Dataset/Testing/output/a_143_0_9600.jpg  \n",
            "  inflating: /content/New_Data_EX8/Teeth_Dataset/Testing/output/a_97_0_8036.jpg  \n",
            "  inflating: /content/New_Data_EX8/Teeth_Dataset/Testing/output/a_88_0_1420.jpg  \n",
            "  inflating: /content/New_Data_EX8/Teeth_Dataset/Testing/outputs/a_121_0_3100.jpg  \n",
            "  inflating: /content/New_Data_EX8/Teeth_Dataset/Testing/outputs/a_117_0_2851.jpg  \n",
            "  inflating: /content/New_Data_EX8/Teeth_Dataset/Testing/outputs/a_117_0_274.jpg  \n",
            "  inflating: /content/New_Data_EX8/Teeth_Dataset/Testing/output/a_137_0_9558.jpg  \n",
            "  inflating: /content/New_Data_EX8/Teeth_Dataset/Testing/outputs/a_113_0_894.jpg  \n",
            "  inflating: /content/New_Data_EX8/Teeth_Dataset/Testing/output/a_132_0_1612.jpg  \n",
            "  inflating: /content/New_Data_EX8/Teeth_Dataset/Testing/outputs/a_125_0_5791.jpg  \n",
            "  inflating: /content/New_Data_EX8/Teeth_Dataset/Testing/outputs/a_113_0_128.jpg  \n",
            "  inflating: /content/New_Data_EX8/Teeth_Dataset/Testing/output/a_97_0_8056.jpg  \n",
            "  inflating: /content/New_Data_EX8/Teeth_Dataset/Testing/output/a_88_0_2226.jpg  \n",
            "  inflating: /content/New_Data_EX8/Teeth_Dataset/Testing/outputs/a_121_0_3065.jpg  \n",
            "  inflating: /content/New_Data_EX8/Teeth_Dataset/Testing/outputs/a_125_0_6007.jpg  \n",
            "  inflating: /content/New_Data_EX8/Teeth_Dataset/Testing/output/a_137_0_7634.jpg  \n",
            "  inflating: /content/New_Data_EX8/Teeth_Dataset/Testing/output/a_135_0_7749.jpg  \n",
            "  inflating: /content/New_Data_EX8/Teeth_Dataset/Testing/outputs/a_130_0_2721.jpg  \n",
            "  inflating: /content/New_Data_EX8/Teeth_Dataset/Testing/outputs/a_98_0_8854.jpg  \n",
            "  inflating: /content/New_Data_EX8/Teeth_Dataset/Testing/output/a_137_0_7519.jpg  \n",
            "  inflating: /content/New_Data_EX8/Teeth_Dataset/Testing/output/a_84_0_443.jpg  \n",
            "  inflating: /content/New_Data_EX8/Teeth_Dataset/Testing/outputs/a_130_0_115.jpg  \n",
            "  inflating: /content/New_Data_EX8/Teeth_Dataset/Testing/outputs/a_98_0_7423.jpg  \n",
            "  inflating: /content/New_Data_EX8/Teeth_Dataset/Testing/outputs/a_101_0_1711.jpg  \n",
            "  inflating: /content/New_Data_EX8/Teeth_Dataset/Testing/output/a_153_0_9586.jpg  \n",
            "  inflating: /content/New_Data_EX8/Teeth_Dataset/Testing/output/a_157_0_1029.jpg  \n",
            "  inflating: /content/New_Data_EX8/Teeth_Dataset/Testing/outputs/a_101_0_1635.jpg  \n",
            "  inflating: /content/New_Data_EX8/Teeth_Dataset/Testing/outputs/a_101_0_4911.jpg  \n",
            "  inflating: /content/New_Data_EX8/Teeth_Dataset/Testing/output/a_135_0_6667.jpg  \n",
            "  inflating: /content/New_Data_EX8/Teeth_Dataset/Testing/outputs/a_133_0_207.jpg  \n",
            "  inflating: /content/New_Data_EX8/Teeth_Dataset/Testing/output/a_84_0_659.jpg  \n",
            "  inflating: /content/New_Data_EX8/Teeth_Dataset/Testing/output/a_157_0_1367.jpg  \n",
            "  inflating: /content/New_Data_EX8/Teeth_Dataset/Testing/output/a_109_0_9333.jpg  \n",
            "  inflating: /content/New_Data_EX8/Teeth_Dataset/Testing/outputs/a_103_0_1080.jpg  \n",
            "  inflating: /content/New_Data_EX8/Teeth_Dataset/Testing/output/a_153_0_9411.jpg  \n",
            "  inflating: /content/New_Data_EX8/Teeth_Dataset/Testing/output/a_94_0_3423.jpg  \n",
            "  inflating: /content/New_Data_EX8/Teeth_Dataset/Testing/outputs/a_133_0_4681.jpg  \n",
            "  inflating: /content/New_Data_EX8/Teeth_Dataset/Testing/outputs/a_85_0_4762.jpg  \n",
            "  inflating: /content/New_Data_EX8/Teeth_Dataset/Testing/output/a_94_0_2748.jpg  \n",
            "  inflating: /content/New_Data_EX8/Teeth_Dataset/Testing/outputs/a_85_0_792.jpg  \n",
            "  inflating: /content/New_Data_EX8/Teeth_Dataset/Testing/outputs/a_103_0_759.jpg  \n",
            "  inflating: /content/New_Data_EX8/Teeth_Dataset/Testing/outputs/a_93_0_2354.jpg  \n",
            "  inflating: /content/New_Data_EX8/Teeth_Dataset/Testing/outputs/a_85_0_1585.jpg  \n",
            "  inflating: /content/New_Data_EX8/Teeth_Dataset/Testing/output/a_106_0_4867.jpg  \n",
            "  inflating: /content/New_Data_EX8/Teeth_Dataset/Testing/output/a_109_0_9048.jpg  \n",
            "  inflating: /content/New_Data_EX8/Teeth_Dataset/Testing/outputs/a_87_0_1308.jpg  \n",
            "  inflating: /content/New_Data_EX8/Teeth_Dataset/Testing/outputs/a_87_0_2992.jpg  \n",
            "  inflating: /content/New_Data_EX8/Teeth_Dataset/Testing/output/a_147_0_1538.jpg  \n",
            "  inflating: /content/New_Data_EX8/Teeth_Dataset/Testing/outputs/a_115_0_9889.jpg  \n",
            "  inflating: /content/New_Data_EX8/Teeth_Dataset/Testing/outputs/a_93_0_2422.jpg  \n",
            "  inflating: /content/New_Data_EX8/Teeth_Dataset/Testing/output/a_106_0_4879.jpg  \n",
            "  inflating: /content/New_Data_EX8/Teeth_Dataset/Testing/output/a_147_0_2391.jpg  \n",
            "  inflating: /content/New_Data_EX8/Teeth_Dataset/Testing/outputs/a_108_0_6871.jpg  \n",
            "  inflating: /content/New_Data_EX8/Teeth_Dataset/Testing/outputs/a_115_0_667.jpg  \n",
            "  inflating: /content/New_Data_EX8/Teeth_Dataset/Testing/output/a_110_0_9790.jpg  \n",
            "  inflating: /content/New_Data_EX8/Teeth_Dataset/Testing/output/a_99_0_9803.jpg  \n",
            "  inflating: /content/New_Data_EX8/Teeth_Dataset/Testing/output/a_102_0_1227.jpg  \n",
            "  inflating: /content/New_Data_EX8/Teeth_Dataset/Testing/output/a_110_0_9820.jpg  \n",
            "  inflating: /content/New_Data_EX8/Teeth_Dataset/Testing/outputs/a_108_0_8186.jpg  \n",
            "  inflating: /content/New_Data_EX8/Teeth_Dataset/Testing/output/a_141_0_7620.jpg  \n",
            "  inflating: /content/New_Data_EX8/Teeth_Dataset/Testing/output/a_102_0_2539.jpg  \n",
            "  inflating: /content/New_Data_EX8/Teeth_Dataset/Testing/output/a_141_0_7647.jpg  \n",
            "  inflating: /content/New_Data_EX8/Teeth_Dataset/Testing/outputs/a_154_0_9145.jpg  \n",
            "  inflating: /content/New_Data_EX8/Teeth_Dataset/Testing/output/a_120_0_4286.jpg  \n",
            "  inflating: /content/New_Data_EX8/Teeth_Dataset/Testing/outputs/a_105_0_4384.jpg  \n",
            "  inflating: /content/New_Data_EX8/Teeth_Dataset/Testing/outputs/a_154_0_9400.jpg  \n",
            "  inflating: /content/New_Data_EX8/Teeth_Dataset/Testing/outputs/a_142_0_2309.jpg  \n",
            "  inflating: /content/New_Data_EX8/Teeth_Dataset/Testing/output/a_120_0_4103.jpg  \n",
            "  inflating: /content/New_Data_EX8/Teeth_Dataset/Testing/output/a_138_0_4841.jpg  \n",
            "  inflating: /content/New_Data_EX8/Teeth_Dataset/Testing/output/a_150_0_4874.jpg  \n",
            "  inflating: /content/New_Data_EX8/Teeth_Dataset/Testing/output/a_150_0_4485.jpg  \n",
            "  inflating: /content/New_Data_EX8/Teeth_Dataset/Testing/outputs/a_91_0_1528.jpg  \n",
            "  inflating: /content/New_Data_EX8/Teeth_Dataset/Testing/outputs/a_91_0_1828.jpg  \n",
            "  inflating: /content/New_Data_EX8/Teeth_Dataset/Testing/output/a_156_0_1345.jpg  \n",
            "  inflating: /content/New_Data_EX8/Teeth_Dataset/Testing/output/a_138_0_7701.jpg  \n",
            "  inflating: /content/New_Data_EX8/Teeth_Dataset/Testing/outputs/a_104_0_5423.jpg  \n",
            "  inflating: /content/New_Data_EX8/Teeth_Dataset/Testing/output/a_90_0_6050.jpg  \n",
            "  inflating: /content/New_Data_EX8/Teeth_Dataset/Testing/outputs/a_142_0_9287.jpg  \n",
            "  inflating: /content/New_Data_EX8/Teeth_Dataset/Testing/outputs/a_104_0_4176.jpg  \n",
            "  inflating: /content/New_Data_EX8/Teeth_Dataset/Testing/outputs/a_142_0_8638.jpg  \n",
            "  inflating: /content/New_Data_EX8/Teeth_Dataset/Testing/output/a_127_0_4168.jpg  \n",
            "  inflating: /content/New_Data_EX8/Teeth_Dataset/Testing/outputs/a_105_0_5703.jpg  \n",
            "  inflating: /content/New_Data_EX8/Teeth_Dataset/Testing/output/a_156_0_102.jpg  \n",
            "  inflating: /content/New_Data_EX8/Teeth_Dataset/Testing/output/a_90_0_2489.jpg  \n",
            "  inflating: /content/New_Data_EX8/Teeth_Dataset/Testing/output/a_123_0_5980.jpg  \n",
            "  inflating: /content/New_Data_EX8/Teeth_Dataset/Testing/output/a_136_0_5202.jpg  \n",
            "  inflating: /content/New_Data_EX8/Teeth_Dataset/Testing/outputs/a_134_0_5972.jpg  \n",
            "  inflating: /content/New_Data_EX8/Teeth_Dataset/Testing/outputs/a_104_0_4898.jpg  \n",
            "  inflating: /content/New_Data_EX8/Teeth_Dataset/Testing/outputs/a_134_0_7173.jpg  \n",
            "  inflating: /content/New_Data_EX8/Teeth_Dataset/Testing/outputs/a_134_0_5283.jpg  \n",
            "  inflating: /content/New_Data_EX8/Teeth_Dataset/Testing/output/a_117_0_274.jpg  \n",
            "  inflating: /content/New_Data_EX8/Teeth_Dataset/Testing/output/a_123_0_5961.jpg  \n",
            "  inflating: /content/New_Data_EX8/Teeth_Dataset/Testing/output/a_121_0_3100.jpg  \n",
            "  inflating: /content/New_Data_EX8/Teeth_Dataset/Testing/output/a_136_0_5103.jpg  \n",
            "  inflating: /content/New_Data_EX8/Teeth_Dataset/Testing/output/a_127_0_7838.jpg  \n",
            "  inflating: /content/New_Data_EX8/Teeth_Dataset/Testing/outputs/a_149_0_4717.jpg  \n",
            "  inflating: /content/New_Data_EX8/Teeth_Dataset/Testing/outputs/a_122_0_9686.jpg  \n",
            "  inflating: /content/New_Data_EX8/Teeth_Dataset/Testing/outputs/a_149_0_4462.jpg  \n",
            "  inflating: /content/New_Data_EX8/Teeth_Dataset/Testing/output/a_113_0_128.jpg  \n",
            "  inflating: /content/New_Data_EX8/Teeth_Dataset/Testing/outputs/a_148_0_2927.jpg  \n",
            "  inflating: /content/New_Data_EX8/Teeth_Dataset/Testing/outputs/a_122_0_3909.jpg  \n",
            "  inflating: /content/New_Data_EX8/Teeth_Dataset/Testing/output/a_113_0_894.jpg  \n",
            "  inflating: /content/New_Data_EX8/Teeth_Dataset/Testing/output/a_125_0_5791.jpg  \n",
            "  inflating: /content/New_Data_EX8/Teeth_Dataset/Testing/output/a_117_0_2851.jpg  \n",
            "  inflating: /content/New_Data_EX8/Teeth_Dataset/Testing/outputs/a_148_0_3262.jpg  \n",
            "  inflating: /content/New_Data_EX8/Teeth_Dataset/Testing/output/a_121_0_3065.jpg  \n",
            "  inflating: /content/New_Data_EX8/Teeth_Dataset/Testing/outputs/a_128_0_8828.jpg  \n",
            "  inflating: /content/New_Data_EX8/Teeth_Dataset/Testing/output/a_130_0_115.jpg  \n",
            "  inflating: /content/New_Data_EX8/Teeth_Dataset/Testing/outputs/a_89_0_3889.jpg  \n",
            "  inflating: /content/New_Data_EX8/Teeth_Dataset/Testing/outputs/a_122_0_4598.jpg  \n",
            "  inflating: /content/New_Data_EX8/Teeth_Dataset/Testing/outputs/a_89_0_5288.jpg  \n",
            "  inflating: /content/New_Data_EX8/Teeth_Dataset/Testing/outputs/a_89_0_1220.jpg  \n",
            "  inflating: /content/New_Data_EX8/Teeth_Dataset/Testing/output/a_125_0_6007.jpg  \n",
            "  inflating: /content/New_Data_EX8/Teeth_Dataset/Testing/outputs/a_80.jpg  \n",
            "  inflating: /content/New_Data_EX8/Teeth_Dataset/Testing/output/a_98_0_7423.jpg  \n",
            "  inflating: /content/New_Data_EX8/Teeth_Dataset/Testing/output/a_130_0_2721.jpg  \n",
            "  inflating: /content/New_Data_EX8/Teeth_Dataset/Testing/outputs/a_116.jpg  \n",
            "  inflating: /content/New_Data_EX8/Teeth_Dataset/Testing/outputs/a_132.jpg  \n",
            "  inflating: /content/New_Data_EX8/Teeth_Dataset/Testing/outputs/a_83.jpg  \n",
            "  inflating: /content/New_Data_EX8/Teeth_Dataset/Testing/output/a_101_0_1711.jpg  \n",
            "  inflating: /content/New_Data_EX8/Teeth_Dataset/Testing/output/a_103_0_759.jpg  \n",
            "  inflating: /content/New_Data_EX8/Teeth_Dataset/Testing/output/a_98_0_8854.jpg  \n",
            "  inflating: /content/New_Data_EX8/Teeth_Dataset/Testing/outputs/a_100.jpg  \n",
            "  inflating: /content/New_Data_EX8/Teeth_Dataset/Testing/output/a_101_0_4911.jpg  \n",
            "  inflating: /content/New_Data_EX8/Teeth_Dataset/Testing/output/a_101_0_1635.jpg  \n",
            "  inflating: /content/New_Data_EX8/Teeth_Dataset/Testing/outputs/a_81.jpg  \n",
            "  inflating: /content/New_Data_EX8/Teeth_Dataset/Testing/out/a_81_0_9451.jpg  \n",
            "  inflating: /content/New_Data_EX8/Teeth_Dataset/Testing/output/a_133_0_4681.jpg  \n",
            "  inflating: /content/New_Data_EX8/Teeth_Dataset/Testing/outputs/a_97.jpg  \n",
            "  inflating: /content/New_Data_EX8/Teeth_Dataset/Testing/output/a_133_0_207.jpg  \n",
            "  inflating: /content/New_Data_EX8/Teeth_Dataset/Testing/outputs/a_115.jpg  \n",
            "  inflating: /content/New_Data_EX8/Teeth_Dataset/Testing/out/a_86_0_1179.jpg  \n",
            "  inflating: /content/New_Data_EX8/Teeth_Dataset/Testing/outputs/a_108.jpg  \n",
            "  inflating: /content/New_Data_EX8/Teeth_Dataset/Testing/outputs/a_113.jpg  \n",
            "  inflating: /content/New_Data_EX8/Teeth_Dataset/Testing/output/a_85_0_792.jpg  \n",
            "  inflating: /content/New_Data_EX8/Teeth_Dataset/Testing/output/a_85_0_1585.jpg  \n",
            "  inflating: /content/New_Data_EX8/Teeth_Dataset/Testing/outputs/a_129.jpg  \n",
            "  inflating: /content/New_Data_EX8/Teeth_Dataset/Testing/out/a_81_0_2986.jpg  \n",
            "  inflating: /content/New_Data_EX8/Teeth_Dataset/Testing/out/a_151_0_6976.jpg  \n",
            "  inflating: /content/New_Data_EX8/Teeth_Dataset/Testing/output/a_85_0_4762.jpg  \n",
            "  inflating: /content/New_Data_EX8/Teeth_Dataset/Testing/output/a_103_0_1080.jpg  \n",
            "  inflating: /content/New_Data_EX8/Teeth_Dataset/Testing/outputs/a_141.jpg  \n",
            "  inflating: /content/New_Data_EX8/Teeth_Dataset/Testing/out/a_80_0_8374.jpg  \n",
            "  inflating: /content/New_Data_EX8/Teeth_Dataset/Testing/out/a_151_0_6880.jpg  \n",
            "  inflating: /content/New_Data_EX8/Teeth_Dataset/Testing/output/a_87_0_1308.jpg  \n",
            "  inflating: /content/New_Data_EX8/Teeth_Dataset/Testing/out/a_81_0_9781.jpg  \n",
            "  inflating: /content/New_Data_EX8/Teeth_Dataset/Testing/output/a_87_0_2992.jpg  \n",
            "  inflating: /content/New_Data_EX8/Teeth_Dataset/Testing/output/a_93_0_2354.jpg  \n",
            "  inflating: /content/New_Data_EX8/Teeth_Dataset/Testing/out/a_152_0_7313.jpg  \n",
            "  inflating: /content/New_Data_EX8/Teeth_Dataset/Testing/output/a_93_0_2422.jpg  \n",
            "  inflating: /content/New_Data_EX8/Teeth_Dataset/Testing/output/a_108_0_6871.jpg  \n",
            "  inflating: /content/New_Data_EX8/Teeth_Dataset/Testing/out/a_126_0_8781.jpg  \n",
            "  inflating: /content/New_Data_EX8/Teeth_Dataset/Testing/out/a_126_0_9339.jpg  \n",
            "  inflating: /content/New_Data_EX8/Teeth_Dataset/Testing/output/a_108_0_8186.jpg  \n",
            "  inflating: /content/New_Data_EX8/Teeth_Dataset/Testing/out/a_152_0_7749.jpg  \n",
            "  inflating: /content/New_Data_EX8/Teeth_Dataset/Testing/output/a_115_0_9889.jpg  \n",
            "  inflating: /content/New_Data_EX8/Teeth_Dataset/Testing/output/a_115_0_667.jpg  \n",
            "  inflating: /content/New_Data_EX8/Teeth_Dataset/Testing/out/a_107_0_6524.jpg  \n",
            "  inflating: /content/New_Data_EX8/Teeth_Dataset/Testing/out/a_126_0_8475.jpg  \n",
            "  inflating: /content/New_Data_EX8/Teeth_Dataset/Testing/output/a_154_0_9400.jpg  \n",
            "  inflating: /content/New_Data_EX8/Teeth_Dataset/Testing/out/a_145_0_1709.jpg  \n",
            "  inflating: /content/New_Data_EX8/Teeth_Dataset/Testing/output/a_154_0_9145.jpg  \n",
            "  inflating: /content/New_Data_EX8/Teeth_Dataset/Testing/output/a_91_0_1828.jpg  \n",
            "  inflating: /content/New_Data_EX8/Teeth_Dataset/Testing/output/a_105_0_4384.jpg  \n",
            "  inflating: /content/New_Data_EX8/Teeth_Dataset/Testing/out/a_96_0_5475.jpg  \n",
            "  inflating: /content/New_Data_EX8/Teeth_Dataset/Testing/out/a_107_0_6474.jpg  \n",
            "  inflating: /content/New_Data_EX8/Teeth_Dataset/Testing/out/a_86_0_774.jpg  \n",
            "  inflating: /content/New_Data_EX8/Teeth_Dataset/Testing/output/a_91_0_1528.jpg  \n",
            "  inflating: /content/New_Data_EX8/Teeth_Dataset/Testing/out/a_145_0_219.jpg  \n",
            "  inflating: /content/New_Data_EX8/Teeth_Dataset/Testing/out/a_139_0_9997.jpg  \n",
            "  inflating: /content/New_Data_EX8/Teeth_Dataset/Testing/output/a_142_0_2309.jpg  \n",
            "  inflating: /content/New_Data_EX8/Teeth_Dataset/Testing/out/a_96_0_5724.jpg  \n",
            "  inflating: /content/New_Data_EX8/Teeth_Dataset/Testing/output/a_104_0_5423.jpg  \n",
            "  inflating: /content/New_Data_EX8/Teeth_Dataset/Testing/out/a_139_0_7520.jpg  \n",
            "  inflating: /content/New_Data_EX8/Teeth_Dataset/Testing/out/a_140_0_7915.jpg  \n",
            "  inflating: /content/New_Data_EX8/Teeth_Dataset/Testing/out/a_82_0_9450.jpg  \n",
            "  inflating: /content/New_Data_EX8/Teeth_Dataset/Testing/output/a_104_0_4898.jpg  \n",
            "  inflating: /content/New_Data_EX8/Teeth_Dataset/Testing/output/a_105_0_5703.jpg  \n",
            "  inflating: /content/New_Data_EX8/Teeth_Dataset/Testing/output/a_142_0_9287.jpg  \n",
            "  inflating: /content/New_Data_EX8/Teeth_Dataset/Testing/output/a_104_0_4176.jpg  \n",
            "  inflating: /content/New_Data_EX8/Teeth_Dataset/Testing/out/a_119_0_3025.jpg  \n",
            "  inflating: /content/New_Data_EX8/Teeth_Dataset/Testing/output/a_142_0_8638.jpg  \n",
            "  inflating: /content/New_Data_EX8/Teeth_Dataset/Testing/out/a_131_0_3960.jpg  \n",
            "  inflating: /content/New_Data_EX8/Teeth_Dataset/Testing/out/a_119_0_1965.jpg  \n",
            "  inflating: /content/New_Data_EX8/Teeth_Dataset/Testing/out/a_131_0_2158.jpg  \n",
            "  inflating: /content/New_Data_EX8/Teeth_Dataset/Testing/out/a_131_0_2039.jpg  \n",
            "  inflating: /content/New_Data_EX8/Teeth_Dataset/Testing/output/a_122_0_9686.jpg  \n",
            "  inflating: /content/New_Data_EX8/Teeth_Dataset/Testing/output/a_134_0_7173.jpg  \n",
            "  inflating: /content/New_Data_EX8/Teeth_Dataset/Testing/output/a_134_0_5972.jpg  \n",
            "  inflating: /content/New_Data_EX8/Teeth_Dataset/Testing/out/a_92_0_3742.jpg  \n",
            "  inflating: /content/New_Data_EX8/Teeth_Dataset/Testing/out/a_114_0_620.jpg  \n",
            "  inflating: /content/New_Data_EX8/Teeth_Dataset/Testing/output/a_122_0_3909.jpg  \n",
            "  inflating: /content/New_Data_EX8/Teeth_Dataset/Testing/output/a_134_0_5283.jpg  \n",
            "  inflating: /content/New_Data_EX8/Teeth_Dataset/Testing/out/a_114_0_653.jpg  \n",
            "  inflating: /content/New_Data_EX8/Teeth_Dataset/Testing/output/a_149_0_4462.jpg  \n",
            "  inflating: /content/New_Data_EX8/Teeth_Dataset/Testing/output/a_149_0_4717.jpg  \n",
            "  inflating: /content/New_Data_EX8/Teeth_Dataset/Testing/out/a_146_0_3107.jpg  \n",
            "  inflating: /content/New_Data_EX8/Teeth_Dataset/Testing/out/a_92_0_2957.jpg  \n",
            "  inflating: /content/New_Data_EX8/Teeth_Dataset/Testing/output/a_148_0_3262.jpg  \n",
            "  inflating: /content/New_Data_EX8/Teeth_Dataset/Testing/out/a_92_0_8203.jpg  \n",
            "  inflating: /content/New_Data_EX8/Teeth_Dataset/Testing/out/a_146_0_3131.jpg  \n",
            "  inflating: /content/New_Data_EX8/Teeth_Dataset/Testing/output/a_89_0_3889.jpg  \n",
            "  inflating: /content/New_Data_EX8/Teeth_Dataset/Testing/out/a_95_0_5360.jpg  \n",
            "  inflating: /content/New_Data_EX8/Teeth_Dataset/Testing/output/a_122_0_4598.jpg  \n",
            "  inflating: /content/New_Data_EX8/Teeth_Dataset/Testing/out/a_118_0_3270.jpg  \n",
            "  inflating: /content/New_Data_EX8/Teeth_Dataset/Testing/output/a_148_0_2927.jpg  \n",
            "  inflating: /content/New_Data_EX8/Teeth_Dataset/Testing/out/a_118_0_1895.jpg  \n",
            "  inflating: /content/New_Data_EX8/Teeth_Dataset/Testing/out/a_118_0_6287.jpg  \n",
            "  inflating: /content/New_Data_EX8/Teeth_Dataset/Testing/out/a_95_0_5530.jpg  \n",
            "  inflating: /content/New_Data_EX8/Teeth_Dataset/Testing/output/a_89_0_1220.jpg  \n",
            "  inflating: /content/New_Data_EX8/Teeth_Dataset/Testing/output/a_128_0_8828.jpg  \n",
            "  inflating: /content/New_Data_EX8/Teeth_Dataset/Testing/output/a_89_0_5288.jpg  \n",
            "  inflating: /content/New_Data_EX8/Teeth_Dataset/Testing/out/a_79_0_8011.jpg  \n",
            "  inflating: /content/New_Data_EX8/Teeth_Dataset/Testing/output/a_80.jpg  \n",
            "  inflating: /content/New_Data_EX8/Teeth_Dataset/Testing/output/a_116.jpg  \n",
            "  inflating: /content/New_Data_EX8/Teeth_Dataset/Testing/out/a_124_0_7258.jpg  \n",
            "  inflating: /content/New_Data_EX8/Teeth_Dataset/Testing/out/a_143_0_9600.jpg  \n",
            "  inflating: /content/New_Data_EX8/Teeth_Dataset/Testing/output/a_97.jpg  \n",
            "  inflating: /content/New_Data_EX8/Teeth_Dataset/Testing/out/a_143_0_9688.jpg  \n",
            "  inflating: /content/New_Data_EX8/Teeth_Dataset/Testing/out/a_124_0_7362.jpg  \n",
            "  inflating: /content/New_Data_EX8/Teeth_Dataset/Testing/out/a_97_0_8056.jpg  \n",
            "  inflating: /content/New_Data_EX8/Teeth_Dataset/Testing/out/a_97_0_8036.jpg  \n",
            "  inflating: /content/New_Data_EX8/Teeth_Dataset/Testing/out/a_88_0_1420.jpg  \n",
            "  inflating: /content/New_Data_EX8/Teeth_Dataset/Testing/output/a_108.jpg  \n",
            "  inflating: /content/New_Data_EX8/Teeth_Dataset/Testing/output/a_132.jpg  \n",
            "  inflating: /content/New_Data_EX8/Teeth_Dataset/Testing/output/a_129.jpg  \n",
            "  inflating: /content/New_Data_EX8/Teeth_Dataset/Testing/output/a_115.jpg  \n",
            "  inflating: /content/New_Data_EX8/Teeth_Dataset/Testing/output/a_83.jpg  \n",
            "  inflating: /content/New_Data_EX8/Teeth_Dataset/Testing/out/a_88_0_2226.jpg  \n",
            "  inflating: /content/New_Data_EX8/Teeth_Dataset/Testing/out/a_132_0_1612.jpg  \n",
            "  inflating: /content/New_Data_EX8/Teeth_Dataset/Testing/output/a_113.jpg  \n",
            "  inflating: /content/New_Data_EX8/Teeth_Dataset/Testing/out/a_137_0_7519.jpg  \n",
            "  inflating: /content/New_Data_EX8/Teeth_Dataset/Testing/out/a_157_0_1029.jpg  \n",
            "  inflating: /content/New_Data_EX8/Teeth_Dataset/Testing/out/a_137_0_9558.jpg  \n",
            "  inflating: /content/New_Data_EX8/Teeth_Dataset/Testing/output/a_100.jpg  \n",
            "  inflating: /content/New_Data_EX8/Teeth_Dataset/Testing/out/a_153_0_9586.jpg  \n",
            "  inflating: /content/New_Data_EX8/Teeth_Dataset/Testing/out/a_135_0_6667.jpg  \n",
            "  inflating: /content/New_Data_EX8/Teeth_Dataset/Testing/output/a_141.jpg  \n",
            "  inflating: /content/New_Data_EX8/Teeth_Dataset/Testing/out/a_84_0_443.jpg  \n",
            "  inflating: /content/New_Data_EX8/Teeth_Dataset/Testing/output/a_81.jpg  \n",
            "  inflating: /content/New_Data_EX8/Teeth_Dataset/Testing/out/a_84_0_659.jpg  \n",
            "  inflating: /content/New_Data_EX8/Teeth_Dataset/Testing/out/a_135_0_7749.jpg  \n",
            "  inflating: /content/New_Data_EX8/Teeth_Dataset/Testing/out/a_137_0_7634.jpg  \n",
            "  inflating: /content/New_Data_EX8/Teeth_Dataset/Testing/out/a_157_0_1367.jpg  \n",
            "  inflating: /content/New_Data_EX8/Teeth_Dataset/Testing/out/a_94_0_2748.jpg  \n",
            "  inflating: /content/New_Data_EX8/Teeth_Dataset/Testing/out/a_153_0_9411.jpg  \n",
            "  inflating: /content/New_Data_EX8/Teeth_Dataset/Testing/out/a_94_0_3423.jpg  \n",
            "  inflating: /content/New_Data_EX8/Teeth_Dataset/Testing/out/a_109_0_9333.jpg  \n",
            "  inflating: /content/New_Data_EX8/Teeth_Dataset/Testing/out/a_99_0_9803.jpg  \n",
            "  inflating: /content/New_Data_EX8/Teeth_Dataset/Testing/out/a_110_0_9790.jpg  \n",
            "  inflating: /content/New_Data_EX8/Teeth_Dataset/Testing/out/a_106_0_4867.jpg  \n",
            "  inflating: /content/New_Data_EX8/Teeth_Dataset/Testing/out/a_147_0_1538.jpg  \n",
            "  inflating: /content/New_Data_EX8/Teeth_Dataset/Testing/out/a_109_0_9048.jpg  \n",
            "  inflating: /content/New_Data_EX8/Teeth_Dataset/Testing/out/a_106_0_4879.jpg  \n",
            "  inflating: /content/New_Data_EX8/Teeth_Dataset/Testing/out/a_110_0_9820.jpg  \n",
            "  inflating: /content/New_Data_EX8/Teeth_Dataset/Testing/out/a_102_0_1227.jpg  \n",
            "  inflating: /content/New_Data_EX8/Teeth_Dataset/Testing/out/a_141_0_7647.jpg  \n",
            "  inflating: /content/New_Data_EX8/Teeth_Dataset/Testing/out/a_141_0_7620.jpg  \n",
            "  inflating: /content/New_Data_EX8/Teeth_Dataset/Testing/out/a_147_0_2391.jpg  \n",
            "  inflating: /content/New_Data_EX8/Teeth_Dataset/Testing/out/a_102_0_2539.jpg  \n",
            "  inflating: /content/New_Data_EX8/Teeth_Dataset/Testing/out/a_120_0_4103.jpg  \n",
            "  inflating: /content/New_Data_EX8/Teeth_Dataset/Testing/out/a_120_0_4286.jpg  \n",
            "  inflating: /content/New_Data_EX8/Teeth_Dataset/Testing/out/a_150_0_4485.jpg  \n",
            "  inflating: /content/New_Data_EX8/Teeth_Dataset/Testing/out/a_138_0_7701.jpg  \n",
            "  inflating: /content/New_Data_EX8/Teeth_Dataset/Testing/out/a_138_0_4841.jpg  \n",
            "  inflating: /content/New_Data_EX8/Teeth_Dataset/Testing/out/a_150_0_4874.jpg  \n",
            "  inflating: /content/New_Data_EX8/Teeth_Dataset/Testing/out/a_156_0_102.jpg  \n",
            "  inflating: /content/New_Data_EX8/Teeth_Dataset/Testing/out/a_90_0_6050.jpg  \n",
            "  inflating: /content/New_Data_EX8/Teeth_Dataset/Testing/out/a_156_0_1345.jpg  \n",
            "  inflating: /content/New_Data_EX8/Teeth_Dataset/Testing/out/a_90_0_2489.jpg  \n",
            "  inflating: /content/New_Data_EX8/Teeth_Dataset/Testing/out/a_127_0_4168.jpg  \n",
            "  inflating: /content/New_Data_EX8/Teeth_Dataset/Testing/out/a_123_0_5961.jpg  \n",
            "  inflating: /content/New_Data_EX8/Teeth_Dataset/Testing/out/a_136_0_5202.jpg  \n",
            "  inflating: /content/New_Data_EX8/Teeth_Dataset/Testing/out/a_127_0_7838.jpg  \n",
            "  inflating: /content/New_Data_EX8/Teeth_Dataset/Testing/out/a_136_0_5103.jpg  \n",
            "  inflating: /content/New_Data_EX8/Teeth_Dataset/Testing/out/a_123_0_5980.jpg  \n",
            "  inflating: /content/New_Data_EX8/Teeth_Dataset/Testing/out/a_117_0_274.jpg  \n",
            "  inflating: /content/New_Data_EX8/Teeth_Dataset/Testing/out/a_113_0_128.jpg  \n",
            "  inflating: /content/New_Data_EX8/Teeth_Dataset/Testing/out/a_117_0_2851.jpg  \n",
            "  inflating: /content/New_Data_EX8/Teeth_Dataset/Testing/out/a_113_0_894.jpg  \n",
            "  inflating: /content/New_Data_EX8/Teeth_Dataset/Testing/out/a_121_0_3065.jpg  \n",
            "  inflating: /content/New_Data_EX8/Teeth_Dataset/Testing/out/a_125_0_6007.jpg  \n",
            "  inflating: /content/New_Data_EX8/Teeth_Dataset/Testing/out/a_121_0_3100.jpg  \n",
            "  inflating: /content/New_Data_EX8/Teeth_Dataset/Testing/out/a_125_0_5791.jpg  \n",
            "  inflating: /content/New_Data_EX8/Teeth_Dataset/Testing/out/a_130_0_115.jpg  \n",
            "  inflating: /content/New_Data_EX8/Teeth_Dataset/Testing/out/a_98_0_7423.jpg  \n",
            "  inflating: /content/New_Data_EX8/Teeth_Dataset/Testing/out/a_130_0_2721.jpg  \n",
            "  inflating: /content/New_Data_EX8/Teeth_Dataset/Testing/out/a_98_0_8854.jpg  \n",
            "  inflating: /content/New_Data_EX8/Teeth_Dataset/Testing/out/a_101_0_1711.jpg  \n",
            "  inflating: /content/New_Data_EX8/Teeth_Dataset/Testing/out/a_101_0_4911.jpg  \n",
            "  inflating: /content/New_Data_EX8/Teeth_Dataset/Testing/out/a_85_0_792.jpg  \n",
            "  inflating: /content/New_Data_EX8/Teeth_Dataset/Testing/out/a_101_0_1635.jpg  \n",
            "  inflating: /content/New_Data_EX8/Teeth_Dataset/Testing/out/a_133_0_207.jpg  \n",
            "  inflating: /content/New_Data_EX8/Teeth_Dataset/Testing/out/a_85_0_1585.jpg  \n",
            "  inflating: /content/New_Data_EX8/Teeth_Dataset/Testing/out/a_133_0_4681.jpg  \n",
            "  inflating: /content/New_Data_EX8/Teeth_Dataset/Testing/out/a_85_0_4762.jpg  \n",
            "  inflating: /content/New_Data_EX8/Teeth_Dataset/Testing/out/a_103_0_759.jpg  \n",
            "  inflating: /content/New_Data_EX8/Teeth_Dataset/Testing/out/a_87_0_1308.jpg  \n",
            "  inflating: /content/New_Data_EX8/Teeth_Dataset/Testing/out/a_103_0_1080.jpg  \n",
            "  inflating: /content/New_Data_EX8/Teeth_Dataset/Testing/out/a_87_0_2992.jpg  \n",
            "  inflating: /content/New_Data_EX8/Teeth_Dataset/Testing/out/a_115_0_9889.jpg  \n",
            "  inflating: /content/New_Data_EX8/Teeth_Dataset/Testing/out/a_154_0_9400.jpg  \n",
            "  inflating: /content/New_Data_EX8/Teeth_Dataset/Testing/out/a_115_0_667.jpg  \n",
            "  inflating: /content/New_Data_EX8/Teeth_Dataset/Testing/out/a_91_0_1828.jpg  \n",
            "  inflating: /content/New_Data_EX8/Teeth_Dataset/Testing/out/a_93_0_2422.jpg  \n",
            "  inflating: /content/New_Data_EX8/Teeth_Dataset/Testing/out/a_91_0_1528.jpg  \n",
            "  inflating: /content/New_Data_EX8/Teeth_Dataset/Testing/out/a_93_0_2354.jpg  \n",
            "  inflating: /content/New_Data_EX8/Teeth_Dataset/Testing/out/a_108_0_6871.jpg  \n",
            "  inflating: /content/New_Data_EX8/Teeth_Dataset/Testing/out/a_105_0_4384.jpg  \n",
            "  inflating: /content/New_Data_EX8/Teeth_Dataset/Testing/out/a_142_0_2309.jpg  \n",
            "  inflating: /content/New_Data_EX8/Teeth_Dataset/Testing/out/a_142_0_9287.jpg  \n",
            "  inflating: /content/New_Data_EX8/Teeth_Dataset/Testing/out/a_104_0_4176.jpg  \n",
            "  inflating: /content/New_Data_EX8/Teeth_Dataset/Testing/out/a_104_0_4898.jpg  \n",
            "  inflating: /content/New_Data_EX8/Teeth_Dataset/Testing/out/a_142_0_8638.jpg  \n",
            "  inflating: /content/New_Data_EX8/Teeth_Dataset/Testing/out/a_134_0_5972.jpg  \n",
            "  inflating: /content/New_Data_EX8/Teeth_Dataset/Testing/out/a_149_0_4462.jpg  \n",
            "  inflating: /content/New_Data_EX8/Teeth_Dataset/Testing/out/a_134_0_7173.jpg  \n",
            "  inflating: /content/New_Data_EX8/Teeth_Dataset/Testing/out/a_105_0_5703.jpg  \n",
            "  inflating: /content/New_Data_EX8/Teeth_Dataset/Testing/out/a_108_0_8186.jpg  \n",
            "  inflating: /content/New_Data_EX8/Teeth_Dataset/Testing/out/a_154_0_9145.jpg  \n",
            "  inflating: /content/New_Data_EX8/Teeth_Dataset/Testing/out/a_104_0_5423.jpg  \n",
            "  inflating: /content/New_Data_EX8/Teeth_Dataset/Testing/out/a_122_0_9686.jpg  \n",
            "  inflating: /content/New_Data_EX8/Teeth_Dataset/Testing/out/a_134_0_5283.jpg  \n",
            "  inflating: /content/New_Data_EX8/Teeth_Dataset/Testing/out/a_89_0_1220.jpg  \n",
            "  inflating: /content/New_Data_EX8/Teeth_Dataset/Testing/out/a_122_0_3909.jpg  \n",
            "  inflating: /content/New_Data_EX8/Teeth_Dataset/Testing/out/a_122_0_4598.jpg  \n",
            "  inflating: /content/New_Data_EX8/Teeth_Dataset/Testing/out/a_149_0_4717.jpg  \n",
            "  inflating: /content/New_Data_EX8/Teeth_Dataset/Testing/out/a_80.jpg  \n",
            "  inflating: /content/New_Data_EX8/Teeth_Dataset/Testing/out/a_132.jpg  \n",
            "  inflating: /content/New_Data_EX8/Teeth_Dataset/Testing/out/a_148_0_2927.jpg  \n",
            "  inflating: /content/New_Data_EX8/Teeth_Dataset/Testing/out/a_89_0_3889.jpg  \n",
            "  inflating: /content/New_Data_EX8/Teeth_Dataset/Testing/out/a_148_0_3262.jpg  \n",
            "  inflating: /content/New_Data_EX8/Teeth_Dataset/Testing/out/a_115.jpg  \n",
            "  inflating: /content/New_Data_EX8/Teeth_Dataset/Testing/out/a_89_0_5288.jpg  \n",
            "  inflating: /content/New_Data_EX8/Teeth_Dataset/Testing/out/a_128_0_8828.jpg  \n",
            "  inflating: /content/New_Data_EX8/Teeth_Dataset/Testing/out/a_97.jpg  \n",
            "  inflating: /content/New_Data_EX8/Teeth_Dataset/Testing/out/a_81.jpg  \n",
            "  inflating: /content/New_Data_EX8/Teeth_Dataset/Testing/out/a_113.jpg  \n",
            "  inflating: /content/New_Data_EX8/Teeth_Dataset/Testing/out/a_116.jpg  \n",
            "  inflating: /content/New_Data_EX8/Teeth_Dataset/Testing/out/a_83.jpg  \n",
            "  inflating: /content/New_Data_EX8/Teeth_Dataset/Testing/out/a_100.jpg  \n",
            "  inflating: /content/New_Data_EX8/Teeth_Dataset/Testing/out/a_108.jpg  \n",
            "  inflating: /content/New_Data_EX8/Teeth_Dataset/Testing/out/a_129.jpg  \n",
            "  inflating: /content/New_Data_EX8/Teeth_Dataset/Testing/out/a_141.jpg  \n"
          ]
        }
      ]
    },
    {
      "cell_type": "code",
      "source": [
        "!rm -r /content/New_Data_EX8/Teeth_Dataset/Testing/out\n",
        "!rm -r /content/New_Data_EX8/Teeth_Dataset/Testing/output\n",
        "!rm -r /content/New_Data_EX8/Teeth_Dataset/Testing/outputs\n",
        "!rm -r /content/New_Data_EX8/Teeth_Dataset/Testing/output_image.jpg"
      ],
      "metadata": {
        "id": "Nr2nI4UFdk13"
      },
      "execution_count": null,
      "outputs": []
    },
    {
      "cell_type": "code",
      "source": [
        "train_data = \"/content/New_Data_EX8/Teeth_Dataset/Training\"\n",
        "test_data = \"/content/New_Data_EX8/Teeth_Dataset/Testing\"\n",
        "validation_data = \"/content/New_Data_EX8/Teeth_Dataset/Validation\"\n"
      ],
      "metadata": {
        "id": "Bs5kXF9Qdpeg"
      },
      "execution_count": null,
      "outputs": []
    },
    {
      "cell_type": "code",
      "source": [
        "\n",
        "img_width = 224\n",
        "img_height = 224\n",
        "batch_size = 32"
      ],
      "metadata": {
        "id": "dpDOdFUOdr9p"
      },
      "execution_count": null,
      "outputs": []
    },
    {
      "cell_type": "code",
      "source": [
        "class_names = sorted(os.listdir(train_data))\n",
        "num_classes = len(class_names)\n",
        "print(f\"Number of classes detected: {num_classes}\")\n",
        "print(f\"Class names: {class_names}\")\n",
        "train_ds_raw = tf.keras.utils.image_dataset_from_directory(\n",
        "    train_data,\n",
        "    labels='inferred',\n",
        "    label_mode='categorical',\n",
        "    image_size=(img_height, img_width),\n",
        "    batch_size=batch_size,\n",
        "    shuffle=True,\n",
        "    seed=123\n",
        ")\n",
        "print(\"Training data loaded successfully with tf.data.Dataset.\")\n"
      ],
      "metadata": {
        "colab": {
          "base_uri": "https://localhost:8080/"
        },
        "id": "-VY9sHDadzmo",
        "outputId": "ceb576fc-6710-4d54-b424-6df1b4fc88b4"
      },
      "execution_count": null,
      "outputs": [
        {
          "output_type": "stream",
          "name": "stdout",
          "text": [
            "Number of classes detected: 7\n",
            "Class names: ['CaS', 'CoS', 'Gum', 'MC', 'OC', 'OLP', 'OT']\n",
            "Found 3087 files belonging to 7 classes.\n",
            "Training data loaded successfully with tf.data.Dataset.\n"
          ]
        }
      ]
    },
    {
      "cell_type": "code",
      "source": [
        "print(\"\\nActual CLASS_NAMES order from training dataset:\")\n",
        "print(train_ds_raw.class_names)"
      ],
      "metadata": {
        "colab": {
          "base_uri": "https://localhost:8080/"
        },
        "id": "ip3Lhbtw4577",
        "outputId": "8de62ea6-c42f-4eb6-b31f-11eec78da778"
      },
      "execution_count": null,
      "outputs": [
        {
          "output_type": "stream",
          "name": "stdout",
          "text": [
            "\n",
            "Actual CLASS_NAMES order from training dataset:\n",
            "['CaS', 'CoS', 'Gum', 'MC', 'OC', 'OLP', 'OT']\n"
          ]
        }
      ]
    },
    {
      "cell_type": "code",
      "source": [
        "val_ds_raw = tf.keras.utils.image_dataset_from_directory(\n",
        "    validation_data,\n",
        "    labels='inferred',\n",
        "    label_mode='categorical',\n",
        "    image_size=(img_height, img_width),\n",
        "    batch_size=batch_size,\n",
        "    shuffle=False,\n",
        "    seed=123\n",
        ")\n",
        "print(\"Validation data loaded successfully with tf.data.Dataset.\")"
      ],
      "metadata": {
        "colab": {
          "base_uri": "https://localhost:8080/"
        },
        "id": "-wghg8ZBeARh",
        "outputId": "1c581bad-ac4b-413c-fddf-20fe90478b41"
      },
      "execution_count": null,
      "outputs": [
        {
          "output_type": "stream",
          "name": "stdout",
          "text": [
            "Found 1028 files belonging to 7 classes.\n",
            "Validation data loaded successfully with tf.data.Dataset.\n"
          ]
        }
      ]
    },
    {
      "cell_type": "code",
      "source": [
        "test_ds_raw = tf.keras.utils.image_dataset_from_directory(\n",
        "    test_data,\n",
        "    labels='inferred',\n",
        "    label_mode='categorical',\n",
        "    image_size=(img_height, img_width),\n",
        "    batch_size=batch_size,\n",
        "    shuffle=False,\n",
        "    seed=123\n",
        ")\n",
        "print(\"Testing data loaded successfully with tf.data.Dataset.\")"
      ],
      "metadata": {
        "colab": {
          "base_uri": "https://localhost:8080/"
        },
        "id": "YS6DvPvBeB1Y",
        "outputId": "b889c40b-fea7-4307-c808-44bb1510a66e"
      },
      "execution_count": null,
      "outputs": [
        {
          "output_type": "stream",
          "name": "stdout",
          "text": [
            "Found 1028 files belonging to 7 classes.\n",
            "Testing data loaded successfully with tf.data.Dataset.\n"
          ]
        }
      ]
    },
    {
      "cell_type": "code",
      "source": [
        "class_names = sorted(os.listdir(train_data))\n",
        "num_classes = len(class_names)\n",
        "\n",
        "num_classes"
      ],
      "metadata": {
        "colab": {
          "base_uri": "https://localhost:8080/"
        },
        "id": "FwES2sE7JErt",
        "outputId": "d4108308-4a3c-4c05-df8f-edd870c9df87"
      },
      "execution_count": null,
      "outputs": [
        {
          "output_type": "execute_result",
          "data": {
            "text/plain": [
              "7"
            ]
          },
          "metadata": {},
          "execution_count": 12
        }
      ]
    },
    {
      "cell_type": "code",
      "source": [
        "print(f\"\\n detected classes  {class_names}\")\n",
        "print(f\"Number of categories {num_classes}\")\n"
      ],
      "metadata": {
        "colab": {
          "base_uri": "https://localhost:8080/"
        },
        "id": "sAiQMRHBJOMt",
        "outputId": "475330bf-f283-49cb-c5b0-fcdb9b13b79a"
      },
      "execution_count": null,
      "outputs": [
        {
          "output_type": "stream",
          "name": "stdout",
          "text": [
            "\n",
            " detected classes  ['CaS', 'CoS', 'Gum', 'MC', 'OC', 'OLP', 'OT']\n",
            "Number of categories 7\n"
          ]
        }
      ]
    },
    {
      "cell_type": "code",
      "source": [],
      "metadata": {
        "id": "MIM-jYpmJUzj"
      },
      "execution_count": null,
      "outputs": []
    },
    {
      "cell_type": "code",
      "source": [
        "#تحسين الاداء ب استخدام (Prefetching)\n",
        "AUTOTUNE = tf.data.AUTOTUNE\n",
        "train_ds = train_ds_raw.cache().prefetch(buffer_size=AUTOTUNE)\n",
        "val_ds = val_ds_raw.cache().prefetch(buffer_size=AUTOTUNE)\n",
        "test_ds = test_ds_raw.cache().prefetch(buffer_size=AUTOTUNE)\n",
        "\n",
        "print(\"Dataset prefetching (Prefetching) applied.\")\n"
      ],
      "metadata": {
        "colab": {
          "base_uri": "https://localhost:8080/"
        },
        "id": "QDbbNHigixRR",
        "outputId": "c5900d01-e0aa-4973-a0c3-7b44761fc331"
      },
      "execution_count": null,
      "outputs": [
        {
          "output_type": "stream",
          "name": "stdout",
          "text": [
            "Dataset prefetching (Prefetching) applied.\n"
          ]
        }
      ]
    },
    {
      "cell_type": "code",
      "source": [
        "#Calculate class weights\n",
        "print(\"\\n Step 2.1: Calculating Class Weights...\")\n",
        "\n",
        "all_labels_integer = np.concatenate([np.argmax(y.numpy(), axis=1) for x, y in train_ds_raw], axis=0)\n",
        "\n",
        "class_weights = class_weight.compute_class_weight(\n",
        "    class_weight='balanced',\n",
        "    classes=np.unique(all_labels_integer),\n",
        "    y=all_labels_integer\n",
        ")\n",
        "\n",
        "class_weights_dict = dict(enumerate(class_weights))\n",
        "\n",
        "print(f\"\\nClass weights calculated successfully:\")\n",
        "for i, weight in class_weights_dict.items():\n",
        "    print(f\"  Class {class_names[i]} (ID: {i}): Weight {weight:.2f}\")\n",
        "\n",
        "print(\"\\nStep 2.1: Class Weights Calculation - Completed successfully!\")"
      ],
      "metadata": {
        "colab": {
          "base_uri": "https://localhost:8080/"
        },
        "id": "OwcXygoHrQ5l",
        "outputId": "a4ee40c7-af3c-4a8d-bc81-0c6942b51935"
      },
      "execution_count": null,
      "outputs": [
        {
          "output_type": "stream",
          "name": "stdout",
          "text": [
            "\n",
            " Step 2.1: Calculating Class Weights...\n",
            "\n",
            "Class weights calculated successfully:\n",
            "  Class CaS (ID: 0): Weight 0.92\n",
            "  Class CoS (ID: 1): Weight 0.98\n",
            "  Class Gum (ID: 2): Weight 1.23\n",
            "  Class MC (ID: 3): Weight 0.82\n",
            "  Class OC (ID: 4): Weight 1.36\n",
            "  Class OLP (ID: 5): Weight 0.82\n",
            "  Class OT (ID: 6): Weight 1.12\n",
            "\n",
            "Step 2.1: Class Weights Calculation - Completed successfully!\n"
          ]
        }
      ]
    },
    {
      "cell_type": "code",
      "source": [
        "from tensorflow.keras import models"
      ],
      "metadata": {
        "id": "7H1XFJzGKWtd"
      },
      "execution_count": null,
      "outputs": []
    },
    {
      "cell_type": "code",
      "source": [
        "#Build model using ResNet50V2\n",
        "\n",
        "import tensorflow as tf\n",
        "from tensorflow.keras import layers, models # تأكد من استيراد models و layers\n",
        "\n",
        "\n",
        "base_model = tf.keras.applications.ResNet50V2(\n",
        "    input_shape=(224, 224, 3),\n",
        "    include_top=False,\n",
        "    weights='imagenet'\n",
        ")\n",
        "print(\"ResNet50V2 base model loaded.\")\n",
        "\n",
        "base_model.trainable = True\n"
      ],
      "metadata": {
        "colab": {
          "base_uri": "https://localhost:8080/"
        },
        "id": "zN2t5mfwBqBp",
        "outputId": "a6f6609a-d71c-4a53-93ae-9362ec1bde8a"
      },
      "execution_count": null,
      "outputs": [
        {
          "output_type": "stream",
          "name": "stdout",
          "text": [
            "ResNet50V2 base model loaded.\n"
          ]
        }
      ]
    },
    {
      "cell_type": "code",
      "source": [
        " # تعريف طبقة Data Augmentation (إثراء البيانات)\n",
        "data_augmentation = tf.keras.Sequential([\n",
        "      tf.keras.layers.RandomFlip(\"horizontal_and_vertical\"),\n",
        "      tf.keras.layers.RandomRotation(0.2),\n",
        "      tf.keras.layers.RandomZoom(0.2),\n",
        "      tf.keras.layers.RandomContrast(0.2),\n",
        "      tf.keras.layers.RandomBrightness(0.2),\n",
        "])\n",
        "\n",
        "model = models.Sequential([\n",
        "      data_augmentation, # طبقة إثراء البيانات\n",
        "\n",
        "      # layers.Lambda(tf.keras.applications.resnet_v2.preprocess_input), #هاض السطر جمدته لانه عملي مشكله ادخال بس غيرت الموديل\n",
        "      base_model,\n",
        "      layers.GlobalAveragePooling2D(),\n",
        "      layers.Dense(256, activation='relu'),\n",
        "      layers.Dropout(0.5),\n",
        "      layers.Dense(128, activation='relu'),\n",
        "      layers.Dropout(0.4),\n",
        "      layers.Dense(7, activation='softmax')\n",
        "])\n",
        "print(\"Model built successfully.\")"
      ],
      "metadata": {
        "colab": {
          "base_uri": "https://localhost:8080/"
        },
        "id": "9t_2taRewzzW",
        "outputId": "77d71eb4-440e-40f5-e7a2-0f4b94cd0c97"
      },
      "execution_count": null,
      "outputs": [
        {
          "output_type": "stream",
          "name": "stdout",
          "text": [
            "Model built successfully.\n"
          ]
        }
      ]
    },
    {
      "cell_type": "code",
      "source": [
        "from tensorflow.keras import layers, models, optimizers, losses\n"
      ],
      "metadata": {
        "id": "g2T1P0wNKmMO"
      },
      "execution_count": null,
      "outputs": []
    },
    {
      "cell_type": "code",
      "source": [
        "\n",
        "model.compile(\n",
        "    optimizer=optimizers.Adam(learning_rate=0.00001 ),\n",
        "    loss=losses.CategoricalCrossentropy(),\n",
        "    metrics=['accuracy']\n",
        ")\n",
        "print(\"Model compiled successfully.\")\n",
        "\n"
      ],
      "metadata": {
        "colab": {
          "base_uri": "https://localhost:8080/"
        },
        "id": "tYRnBykaKaCk",
        "outputId": "fb4684e3-8575-42ca-dddf-adffb232f013"
      },
      "execution_count": null,
      "outputs": [
        {
          "output_type": "stream",
          "name": "stdout",
          "text": [
            "Model compiled successfully.\n"
          ]
        }
      ]
    },
    {
      "cell_type": "code",
      "source": [
        "\n",
        "print(\"\\nModel Summary:\")\n",
        "model.summary()\n"
      ],
      "metadata": {
        "colab": {
          "base_uri": "https://localhost:8080/",
          "height": 436
        },
        "id": "o20LnW6NBePZ",
        "outputId": "35004174-d749-4248-9d45-97726a93e0b6"
      },
      "execution_count": null,
      "outputs": [
        {
          "output_type": "stream",
          "name": "stdout",
          "text": [
            "\n",
            "Model Summary:\n"
          ]
        },
        {
          "output_type": "display_data",
          "data": {
            "text/plain": [
              "\u001b[1mModel: \"sequential_1\"\u001b[0m\n"
            ],
            "text/html": [
              "<pre style=\"white-space:pre;overflow-x:auto;line-height:normal;font-family:Menlo,'DejaVu Sans Mono',consolas,'Courier New',monospace\"><span style=\"font-weight: bold\">Model: \"sequential_1\"</span>\n",
              "</pre>\n"
            ]
          },
          "metadata": {}
        },
        {
          "output_type": "display_data",
          "data": {
            "text/plain": [
              "┏━━━━━━━━━━━━━━━━━━━━━━━━━━━━━━━━━┳━━━━━━━━━━━━━━━━━━━━━━━━┳━━━━━━━━━━━━━━━┓\n",
              "┃\u001b[1m \u001b[0m\u001b[1mLayer (type)                   \u001b[0m\u001b[1m \u001b[0m┃\u001b[1m \u001b[0m\u001b[1mOutput Shape          \u001b[0m\u001b[1m \u001b[0m┃\u001b[1m \u001b[0m\u001b[1m      Param #\u001b[0m\u001b[1m \u001b[0m┃\n",
              "┡━━━━━━━━━━━━━━━━━━━━━━━━━━━━━━━━━╇━━━━━━━━━━━━━━━━━━━━━━━━╇━━━━━━━━━━━━━━━┩\n",
              "│ sequential (\u001b[38;5;33mSequential\u001b[0m)         │ ?                      │   \u001b[38;5;34m0\u001b[0m (unbuilt) │\n",
              "├─────────────────────────────────┼────────────────────────┼───────────────┤\n",
              "│ resnet50v2 (\u001b[38;5;33mFunctional\u001b[0m)         │ (\u001b[38;5;45mNone\u001b[0m, \u001b[38;5;34m7\u001b[0m, \u001b[38;5;34m7\u001b[0m, \u001b[38;5;34m2048\u001b[0m)     │    \u001b[38;5;34m23,564,800\u001b[0m │\n",
              "├─────────────────────────────────┼────────────────────────┼───────────────┤\n",
              "│ global_average_pooling2d        │ ?                      │             \u001b[38;5;34m0\u001b[0m │\n",
              "│ (\u001b[38;5;33mGlobalAveragePooling2D\u001b[0m)        │                        │               │\n",
              "├─────────────────────────────────┼────────────────────────┼───────────────┤\n",
              "│ dense (\u001b[38;5;33mDense\u001b[0m)                   │ ?                      │   \u001b[38;5;34m0\u001b[0m (unbuilt) │\n",
              "├─────────────────────────────────┼────────────────────────┼───────────────┤\n",
              "│ dropout (\u001b[38;5;33mDropout\u001b[0m)               │ ?                      │             \u001b[38;5;34m0\u001b[0m │\n",
              "├─────────────────────────────────┼────────────────────────┼───────────────┤\n",
              "│ dense_1 (\u001b[38;5;33mDense\u001b[0m)                 │ ?                      │   \u001b[38;5;34m0\u001b[0m (unbuilt) │\n",
              "├─────────────────────────────────┼────────────────────────┼───────────────┤\n",
              "│ dropout_1 (\u001b[38;5;33mDropout\u001b[0m)             │ ?                      │             \u001b[38;5;34m0\u001b[0m │\n",
              "├─────────────────────────────────┼────────────────────────┼───────────────┤\n",
              "│ dense_2 (\u001b[38;5;33mDense\u001b[0m)                 │ ?                      │   \u001b[38;5;34m0\u001b[0m (unbuilt) │\n",
              "└─────────────────────────────────┴────────────────────────┴───────────────┘\n"
            ],
            "text/html": [
              "<pre style=\"white-space:pre;overflow-x:auto;line-height:normal;font-family:Menlo,'DejaVu Sans Mono',consolas,'Courier New',monospace\">┏━━━━━━━━━━━━━━━━━━━━━━━━━━━━━━━━━┳━━━━━━━━━━━━━━━━━━━━━━━━┳━━━━━━━━━━━━━━━┓\n",
              "┃<span style=\"font-weight: bold\"> Layer (type)                    </span>┃<span style=\"font-weight: bold\"> Output Shape           </span>┃<span style=\"font-weight: bold\">       Param # </span>┃\n",
              "┡━━━━━━━━━━━━━━━━━━━━━━━━━━━━━━━━━╇━━━━━━━━━━━━━━━━━━━━━━━━╇━━━━━━━━━━━━━━━┩\n",
              "│ sequential (<span style=\"color: #0087ff; text-decoration-color: #0087ff\">Sequential</span>)         │ ?                      │   <span style=\"color: #00af00; text-decoration-color: #00af00\">0</span> (unbuilt) │\n",
              "├─────────────────────────────────┼────────────────────────┼───────────────┤\n",
              "│ resnet50v2 (<span style=\"color: #0087ff; text-decoration-color: #0087ff\">Functional</span>)         │ (<span style=\"color: #00d7ff; text-decoration-color: #00d7ff\">None</span>, <span style=\"color: #00af00; text-decoration-color: #00af00\">7</span>, <span style=\"color: #00af00; text-decoration-color: #00af00\">7</span>, <span style=\"color: #00af00; text-decoration-color: #00af00\">2048</span>)     │    <span style=\"color: #00af00; text-decoration-color: #00af00\">23,564,800</span> │\n",
              "├─────────────────────────────────┼────────────────────────┼───────────────┤\n",
              "│ global_average_pooling2d        │ ?                      │             <span style=\"color: #00af00; text-decoration-color: #00af00\">0</span> │\n",
              "│ (<span style=\"color: #0087ff; text-decoration-color: #0087ff\">GlobalAveragePooling2D</span>)        │                        │               │\n",
              "├─────────────────────────────────┼────────────────────────┼───────────────┤\n",
              "│ dense (<span style=\"color: #0087ff; text-decoration-color: #0087ff\">Dense</span>)                   │ ?                      │   <span style=\"color: #00af00; text-decoration-color: #00af00\">0</span> (unbuilt) │\n",
              "├─────────────────────────────────┼────────────────────────┼───────────────┤\n",
              "│ dropout (<span style=\"color: #0087ff; text-decoration-color: #0087ff\">Dropout</span>)               │ ?                      │             <span style=\"color: #00af00; text-decoration-color: #00af00\">0</span> │\n",
              "├─────────────────────────────────┼────────────────────────┼───────────────┤\n",
              "│ dense_1 (<span style=\"color: #0087ff; text-decoration-color: #0087ff\">Dense</span>)                 │ ?                      │   <span style=\"color: #00af00; text-decoration-color: #00af00\">0</span> (unbuilt) │\n",
              "├─────────────────────────────────┼────────────────────────┼───────────────┤\n",
              "│ dropout_1 (<span style=\"color: #0087ff; text-decoration-color: #0087ff\">Dropout</span>)             │ ?                      │             <span style=\"color: #00af00; text-decoration-color: #00af00\">0</span> │\n",
              "├─────────────────────────────────┼────────────────────────┼───────────────┤\n",
              "│ dense_2 (<span style=\"color: #0087ff; text-decoration-color: #0087ff\">Dense</span>)                 │ ?                      │   <span style=\"color: #00af00; text-decoration-color: #00af00\">0</span> (unbuilt) │\n",
              "└─────────────────────────────────┴────────────────────────┴───────────────┘\n",
              "</pre>\n"
            ]
          },
          "metadata": {}
        },
        {
          "output_type": "display_data",
          "data": {
            "text/plain": [
              "\u001b[1m Total params: \u001b[0m\u001b[38;5;34m23,564,800\u001b[0m (89.89 MB)\n"
            ],
            "text/html": [
              "<pre style=\"white-space:pre;overflow-x:auto;line-height:normal;font-family:Menlo,'DejaVu Sans Mono',consolas,'Courier New',monospace\"><span style=\"font-weight: bold\"> Total params: </span><span style=\"color: #00af00; text-decoration-color: #00af00\">23,564,800</span> (89.89 MB)\n",
              "</pre>\n"
            ]
          },
          "metadata": {}
        },
        {
          "output_type": "display_data",
          "data": {
            "text/plain": [
              "\u001b[1m Trainable params: \u001b[0m\u001b[38;5;34m23,519,360\u001b[0m (89.72 MB)\n"
            ],
            "text/html": [
              "<pre style=\"white-space:pre;overflow-x:auto;line-height:normal;font-family:Menlo,'DejaVu Sans Mono',consolas,'Courier New',monospace\"><span style=\"font-weight: bold\"> Trainable params: </span><span style=\"color: #00af00; text-decoration-color: #00af00\">23,519,360</span> (89.72 MB)\n",
              "</pre>\n"
            ]
          },
          "metadata": {}
        },
        {
          "output_type": "display_data",
          "data": {
            "text/plain": [
              "\u001b[1m Non-trainable params: \u001b[0m\u001b[38;5;34m45,440\u001b[0m (177.50 KB)\n"
            ],
            "text/html": [
              "<pre style=\"white-space:pre;overflow-x:auto;line-height:normal;font-family:Menlo,'DejaVu Sans Mono',consolas,'Courier New',monospace\"><span style=\"font-weight: bold\"> Non-trainable params: </span><span style=\"color: #00af00; text-decoration-color: #00af00\">45,440</span> (177.50 KB)\n",
              "</pre>\n"
            ]
          },
          "metadata": {}
        }
      ]
    },
    {
      "cell_type": "code",
      "source": [
        "#Fit Model\n"
      ],
      "metadata": {
        "id": "HKXjgmwQKtxA"
      },
      "execution_count": null,
      "outputs": []
    },
    {
      "cell_type": "code",
      "source": [
        "import tensorflow as tf\n",
        "from tensorflow.keras.callbacks import EarlyStopping, ModelCheckpoint\n",
        "import os"
      ],
      "metadata": {
        "id": "FrX1v5TQK89F"
      },
      "execution_count": null,
      "outputs": []
    },
    {
      "cell_type": "code",
      "source": [
        "checkpoint_dir = '/content/drive/MyDrive/Teeth_Model_Checkpoints_ResNet50V2'\n",
        "#هون انا حددت الباث الي رح احفظ فيه افضل نسخ من الموديل تبعي\n",
        "\n",
        "os.makedirs(checkpoint_dir, exist_ok=True)\n",
        "#ههذ الامر من او اس بنشآ ملف بنفس الاسم الي انا اعطيته ياه اكزيت ترو يعني اذا موجود تعطيش ايرور عادي كمل"
      ],
      "metadata": {
        "id": "yB1v8hxJLEG5"
      },
      "execution_count": null,
      "outputs": []
    },
    {
      "cell_type": "code",
      "source": [
        "checkpoint_filepath = os.path.join(checkpoint_dir, 'best_efficientnetb0_teeth_model.keras')\n",
        "#best_efficientnetb0_teeth_model.keras اسم افضل نسخه من الموديل\n",
        "model_checkpoint_callback = ModelCheckpoint(\n",
        "    filepath=checkpoint_filepath,\n",
        "    #المكان الي رح احفظ فيه الموديل\n",
        "    save_weights_only=False,\n",
        "    #يعني احفظلي الموديل كله مش بس الاوزان تبعته\n",
        "    monitor='val_accuracy',\n",
        "    mode='max',\n",
        "    #هاي يعني كل ما زادت ال val_acc بكون احسن خذها\n",
        "    save_best_only=True,\n",
        "    #يعني احفظلي الموديل بس في حاله اذا كان احسن من الي قبله\n",
        "    verbose=1\n",
        ")\n",
        "\n",
        "early_stopping_callback = EarlyStopping(\n",
        "    monitor='val_accuracy',\n",
        "    patience=6,\n",
        "    mode='max',\n",
        "    restore_best_weights=True,\n",
        "    verbose=1\n",
        ")\n",
        "\n",
        "epochs = 40\n",
        "\n",
        "history = model.fit(\n",
        "    train_ds,\n",
        "    validation_data=val_ds,\n",
        "    epochs=epochs,\n",
        "    callbacks=[model_checkpoint_callback, early_stopping_callback],\n",
        "    class_weight=class_weights_dict\n",
        "    #درب مع مراعاه ال اوزان الي عملناها\n",
        ")\n",
        "\n",
        "print(\"\\nStep 3: Model Training - Completed successfully!\")\n"
      ],
      "metadata": {
        "colab": {
          "base_uri": "https://localhost:8080/"
        },
        "id": "F14YYBivLIjH",
        "outputId": "b35769da-6305-4b18-ded1-64aa317a78c1"
      },
      "execution_count": null,
      "outputs": [
        {
          "output_type": "stream",
          "name": "stdout",
          "text": [
            "Epoch 1/40\n",
            "\u001b[1m97/97\u001b[0m \u001b[32m━━━━━━━━━━━━━━━━━━━━\u001b[0m\u001b[37m\u001b[0m \u001b[1m0s\u001b[0m 466ms/step - accuracy: 0.1446 - loss: 2.2995\n",
            "Epoch 1: val_accuracy improved from -inf to 0.20136, saving model to /content/drive/MyDrive/Teeth_Model_Checkpoints_ResNet50V2/best_efficientnetb0_teeth_model.keras\n",
            "\u001b[1m97/97\u001b[0m \u001b[32m━━━━━━━━━━━━━━━━━━━━\u001b[0m\u001b[37m\u001b[0m \u001b[1m107s\u001b[0m 659ms/step - accuracy: 0.1447 - loss: 2.2987 - val_accuracy: 0.2014 - val_loss: 1.9161\n",
            "Epoch 2/40\n",
            "\u001b[1m97/97\u001b[0m \u001b[32m━━━━━━━━━━━━━━━━━━━━\u001b[0m\u001b[37m\u001b[0m \u001b[1m0s\u001b[0m 421ms/step - accuracy: 0.1951 - loss: 2.0198\n",
            "Epoch 2: val_accuracy improved from 0.20136 to 0.33658, saving model to /content/drive/MyDrive/Teeth_Model_Checkpoints_ResNet50V2/best_efficientnetb0_teeth_model.keras\n",
            "\u001b[1m97/97\u001b[0m \u001b[32m━━━━━━━━━━━━━━━━━━━━\u001b[0m\u001b[37m\u001b[0m \u001b[1m59s\u001b[0m 487ms/step - accuracy: 0.1952 - loss: 2.0196 - val_accuracy: 0.3366 - val_loss: 1.7698\n",
            "Epoch 3/40\n",
            "\u001b[1m97/97\u001b[0m \u001b[32m━━━━━━━━━━━━━━━━━━━━\u001b[0m\u001b[37m\u001b[0m \u001b[1m0s\u001b[0m 432ms/step - accuracy: 0.2190 - loss: 1.9289\n",
            "Epoch 3: val_accuracy improved from 0.33658 to 0.42023, saving model to /content/drive/MyDrive/Teeth_Model_Checkpoints_ResNet50V2/best_efficientnetb0_teeth_model.keras\n",
            "\u001b[1m97/97\u001b[0m \u001b[32m━━━━━━━━━━━━━━━━━━━━\u001b[0m\u001b[37m\u001b[0m \u001b[1m84s\u001b[0m 509ms/step - accuracy: 0.2191 - loss: 1.9287 - val_accuracy: 0.4202 - val_loss: 1.6686\n",
            "Epoch 4/40\n",
            "\u001b[1m97/97\u001b[0m \u001b[32m━━━━━━━━━━━━━━━━━━━━\u001b[0m\u001b[37m\u001b[0m \u001b[1m0s\u001b[0m 422ms/step - accuracy: 0.2677 - loss: 1.8398\n",
            "Epoch 4: val_accuracy improved from 0.42023 to 0.47665, saving model to /content/drive/MyDrive/Teeth_Model_Checkpoints_ResNet50V2/best_efficientnetb0_teeth_model.keras\n",
            "\u001b[1m97/97\u001b[0m \u001b[32m━━━━━━━━━━━━━━━━━━━━\u001b[0m\u001b[37m\u001b[0m \u001b[1m79s\u001b[0m 482ms/step - accuracy: 0.2678 - loss: 1.8395 - val_accuracy: 0.4767 - val_loss: 1.5673\n",
            "Epoch 5/40\n",
            "\u001b[1m97/97\u001b[0m \u001b[32m━━━━━━━━━━━━━━━━━━━━\u001b[0m\u001b[37m\u001b[0m \u001b[1m0s\u001b[0m 436ms/step - accuracy: 0.3006 - loss: 1.7370\n",
            "Epoch 5: val_accuracy improved from 0.47665 to 0.51556, saving model to /content/drive/MyDrive/Teeth_Model_Checkpoints_ResNet50V2/best_efficientnetb0_teeth_model.keras\n",
            "\u001b[1m97/97\u001b[0m \u001b[32m━━━━━━━━━━━━━━━━━━━━\u001b[0m\u001b[37m\u001b[0m \u001b[1m87s\u001b[0m 538ms/step - accuracy: 0.3009 - loss: 1.7368 - val_accuracy: 0.5156 - val_loss: 1.4526\n",
            "Epoch 6/40\n",
            "\u001b[1m97/97\u001b[0m \u001b[32m━━━━━━━━━━━━━━━━━━━━\u001b[0m\u001b[37m\u001b[0m \u001b[1m0s\u001b[0m 434ms/step - accuracy: 0.3580 - loss: 1.6422\n",
            "Epoch 6: val_accuracy improved from 0.51556 to 0.55350, saving model to /content/drive/MyDrive/Teeth_Model_Checkpoints_ResNet50V2/best_efficientnetb0_teeth_model.keras\n",
            "\u001b[1m97/97\u001b[0m \u001b[32m━━━━━━━━━━━━━━━━━━━━\u001b[0m\u001b[37m\u001b[0m \u001b[1m78s\u001b[0m 495ms/step - accuracy: 0.3581 - loss: 1.6419 - val_accuracy: 0.5535 - val_loss: 1.3493\n",
            "Epoch 7/40\n",
            "\u001b[1m97/97\u001b[0m \u001b[32m━━━━━━━━━━━━━━━━━━━━\u001b[0m\u001b[37m\u001b[0m \u001b[1m0s\u001b[0m 447ms/step - accuracy: 0.4136 - loss: 1.5379\n",
            "Epoch 7: val_accuracy improved from 0.55350 to 0.61479, saving model to /content/drive/MyDrive/Teeth_Model_Checkpoints_ResNet50V2/best_efficientnetb0_teeth_model.keras\n",
            "\u001b[1m97/97\u001b[0m \u001b[32m━━━━━━━━━━━━━━━━━━━━\u001b[0m\u001b[37m\u001b[0m \u001b[1m83s\u001b[0m 508ms/step - accuracy: 0.4136 - loss: 1.5377 - val_accuracy: 0.6148 - val_loss: 1.2392\n",
            "Epoch 8/40\n",
            "\u001b[1m97/97\u001b[0m \u001b[32m━━━━━━━━━━━━━━━━━━━━\u001b[0m\u001b[37m\u001b[0m \u001b[1m0s\u001b[0m 444ms/step - accuracy: 0.4462 - loss: 1.4494\n",
            "Epoch 8: val_accuracy improved from 0.61479 to 0.64202, saving model to /content/drive/MyDrive/Teeth_Model_Checkpoints_ResNet50V2/best_efficientnetb0_teeth_model.keras\n",
            "\u001b[1m97/97\u001b[0m \u001b[32m━━━━━━━━━━━━━━━━━━━━\u001b[0m\u001b[37m\u001b[0m \u001b[1m82s\u001b[0m 513ms/step - accuracy: 0.4464 - loss: 1.4491 - val_accuracy: 0.6420 - val_loss: 1.1490\n",
            "Epoch 9/40\n",
            "\u001b[1m97/97\u001b[0m \u001b[32m━━━━━━━━━━━━━━━━━━━━\u001b[0m\u001b[37m\u001b[0m \u001b[1m0s\u001b[0m 440ms/step - accuracy: 0.4906 - loss: 1.3444\n",
            "Epoch 9: val_accuracy improved from 0.64202 to 0.66342, saving model to /content/drive/MyDrive/Teeth_Model_Checkpoints_ResNet50V2/best_efficientnetb0_teeth_model.keras\n",
            "\u001b[1m97/97\u001b[0m \u001b[32m━━━━━━━━━━━━━━━━━━━━\u001b[0m\u001b[37m\u001b[0m \u001b[1m87s\u001b[0m 566ms/step - accuracy: 0.4907 - loss: 1.3442 - val_accuracy: 0.6634 - val_loss: 1.0687\n",
            "Epoch 10/40\n",
            "\u001b[1m97/97\u001b[0m \u001b[32m━━━━━━━━━━━━━━━━━━━━\u001b[0m\u001b[37m\u001b[0m \u001b[1m0s\u001b[0m 431ms/step - accuracy: 0.5242 - loss: 1.2476\n",
            "Epoch 10: val_accuracy improved from 0.66342 to 0.67412, saving model to /content/drive/MyDrive/Teeth_Model_Checkpoints_ResNet50V2/best_efficientnetb0_teeth_model.keras\n",
            "\u001b[1m97/97\u001b[0m \u001b[32m━━━━━━━━━━━━━━━━━━━━\u001b[0m\u001b[37m\u001b[0m \u001b[1m78s\u001b[0m 529ms/step - accuracy: 0.5243 - loss: 1.2476 - val_accuracy: 0.6741 - val_loss: 1.0009\n",
            "Epoch 11/40\n",
            "\u001b[1m97/97\u001b[0m \u001b[32m━━━━━━━━━━━━━━━━━━━━\u001b[0m\u001b[37m\u001b[0m \u001b[1m0s\u001b[0m 448ms/step - accuracy: 0.5543 - loss: 1.1991\n",
            "Epoch 11: val_accuracy improved from 0.67412 to 0.69650, saving model to /content/drive/MyDrive/Teeth_Model_Checkpoints_ResNet50V2/best_efficientnetb0_teeth_model.keras\n",
            "\u001b[1m97/97\u001b[0m \u001b[32m━━━━━━━━━━━━━━━━━━━━\u001b[0m\u001b[37m\u001b[0m \u001b[1m81s\u001b[0m 522ms/step - accuracy: 0.5544 - loss: 1.1990 - val_accuracy: 0.6965 - val_loss: 0.9211\n",
            "Epoch 12/40\n",
            "\u001b[1m97/97\u001b[0m \u001b[32m━━━━━━━━━━━━━━━━━━━━\u001b[0m\u001b[37m\u001b[0m \u001b[1m0s\u001b[0m 447ms/step - accuracy: 0.5897 - loss: 1.1006\n",
            "Epoch 12: val_accuracy improved from 0.69650 to 0.70817, saving model to /content/drive/MyDrive/Teeth_Model_Checkpoints_ResNet50V2/best_efficientnetb0_teeth_model.keras\n",
            "\u001b[1m97/97\u001b[0m \u001b[32m━━━━━━━━━━━━━━━━━━━━\u001b[0m\u001b[37m\u001b[0m \u001b[1m54s\u001b[0m 555ms/step - accuracy: 0.5897 - loss: 1.1007 - val_accuracy: 0.7082 - val_loss: 0.8590\n",
            "Epoch 13/40\n",
            "\u001b[1m97/97\u001b[0m \u001b[32m━━━━━━━━━━━━━━━━━━━━\u001b[0m\u001b[37m\u001b[0m \u001b[1m0s\u001b[0m 432ms/step - accuracy: 0.6234 - loss: 1.0429\n",
            "Epoch 13: val_accuracy improved from 0.70817 to 0.75195, saving model to /content/drive/MyDrive/Teeth_Model_Checkpoints_ResNet50V2/best_efficientnetb0_teeth_model.keras\n",
            "\u001b[1m97/97\u001b[0m \u001b[32m━━━━━━━━━━━━━━━━━━━━\u001b[0m\u001b[37m\u001b[0m \u001b[1m77s\u001b[0m 505ms/step - accuracy: 0.6236 - loss: 1.0427 - val_accuracy: 0.7519 - val_loss: 0.7777\n",
            "Epoch 14/40\n",
            "\u001b[1m97/97\u001b[0m \u001b[32m━━━━━━━━━━━━━━━━━━━━\u001b[0m\u001b[37m\u001b[0m \u001b[1m0s\u001b[0m 441ms/step - accuracy: 0.6474 - loss: 0.9849\n",
            "Epoch 14: val_accuracy improved from 0.75195 to 0.77626, saving model to /content/drive/MyDrive/Teeth_Model_Checkpoints_ResNet50V2/best_efficientnetb0_teeth_model.keras\n",
            "\u001b[1m97/97\u001b[0m \u001b[32m━━━━━━━━━━━━━━━━━━━━\u001b[0m\u001b[37m\u001b[0m \u001b[1m82s\u001b[0m 508ms/step - accuracy: 0.6474 - loss: 0.9847 - val_accuracy: 0.7763 - val_loss: 0.7025\n",
            "Epoch 15/40\n",
            "\u001b[1m97/97\u001b[0m \u001b[32m━━━━━━━━━━━━━━━━━━━━\u001b[0m\u001b[37m\u001b[0m \u001b[1m0s\u001b[0m 444ms/step - accuracy: 0.6600 - loss: 0.9305\n",
            "Epoch 15: val_accuracy improved from 0.77626 to 0.79864, saving model to /content/drive/MyDrive/Teeth_Model_Checkpoints_ResNet50V2/best_efficientnetb0_teeth_model.keras\n",
            "\u001b[1m97/97\u001b[0m \u001b[32m━━━━━━━━━━━━━━━━━━━━\u001b[0m\u001b[37m\u001b[0m \u001b[1m82s\u001b[0m 505ms/step - accuracy: 0.6601 - loss: 0.9303 - val_accuracy: 0.7986 - val_loss: 0.6553\n",
            "Epoch 16/40\n",
            "\u001b[1m97/97\u001b[0m \u001b[32m━━━━━━━━━━━━━━━━━━━━\u001b[0m\u001b[37m\u001b[0m \u001b[1m0s\u001b[0m 439ms/step - accuracy: 0.6955 - loss: 0.8356\n",
            "Epoch 16: val_accuracy improved from 0.79864 to 0.80739, saving model to /content/drive/MyDrive/Teeth_Model_Checkpoints_ResNet50V2/best_efficientnetb0_teeth_model.keras\n",
            "\u001b[1m97/97\u001b[0m \u001b[32m━━━━━━━━━━━━━━━━━━━━\u001b[0m\u001b[37m\u001b[0m \u001b[1m48s\u001b[0m 498ms/step - accuracy: 0.6956 - loss: 0.8354 - val_accuracy: 0.8074 - val_loss: 0.5985\n",
            "Epoch 17/40\n",
            "\u001b[1m97/97\u001b[0m \u001b[32m━━━━━━━━━━━━━━━━━━━━\u001b[0m\u001b[37m\u001b[0m \u001b[1m0s\u001b[0m 445ms/step - accuracy: 0.7235 - loss: 0.7890\n",
            "Epoch 17: val_accuracy improved from 0.80739 to 0.82588, saving model to /content/drive/MyDrive/Teeth_Model_Checkpoints_ResNet50V2/best_efficientnetb0_teeth_model.keras\n",
            "\u001b[1m97/97\u001b[0m \u001b[32m━━━━━━━━━━━━━━━━━━━━\u001b[0m\u001b[37m\u001b[0m \u001b[1m84s\u001b[0m 523ms/step - accuracy: 0.7236 - loss: 0.7888 - val_accuracy: 0.8259 - val_loss: 0.5537\n",
            "Epoch 18/40\n",
            "\u001b[1m97/97\u001b[0m \u001b[32m━━━━━━━━━━━━━━━━━━━━\u001b[0m\u001b[37m\u001b[0m \u001b[1m0s\u001b[0m 439ms/step - accuracy: 0.7306 - loss: 0.7338\n",
            "Epoch 18: val_accuracy improved from 0.82588 to 0.84047, saving model to /content/drive/MyDrive/Teeth_Model_Checkpoints_ResNet50V2/best_efficientnetb0_teeth_model.keras\n",
            "\u001b[1m97/97\u001b[0m \u001b[32m━━━━━━━━━━━━━━━━━━━━\u001b[0m\u001b[37m\u001b[0m \u001b[1m50s\u001b[0m 519ms/step - accuracy: 0.7307 - loss: 0.7336 - val_accuracy: 0.8405 - val_loss: 0.5094\n",
            "Epoch 19/40\n",
            "\u001b[1m97/97\u001b[0m \u001b[32m━━━━━━━━━━━━━━━━━━━━\u001b[0m\u001b[37m\u001b[0m \u001b[1m0s\u001b[0m 441ms/step - accuracy: 0.7624 - loss: 0.6775\n",
            "Epoch 19: val_accuracy improved from 0.84047 to 0.86673, saving model to /content/drive/MyDrive/Teeth_Model_Checkpoints_ResNet50V2/best_efficientnetb0_teeth_model.keras\n",
            "\u001b[1m97/97\u001b[0m \u001b[32m━━━━━━━━━━━━━━━━━━━━\u001b[0m\u001b[37m\u001b[0m \u001b[1m48s\u001b[0m 499ms/step - accuracy: 0.7624 - loss: 0.6774 - val_accuracy: 0.8667 - val_loss: 0.4426\n",
            "Epoch 20/40\n",
            "\u001b[1m97/97\u001b[0m \u001b[32m━━━━━━━━━━━━━━━━━━━━\u001b[0m\u001b[37m\u001b[0m \u001b[1m0s\u001b[0m 428ms/step - accuracy: 0.7788 - loss: 0.6297\n",
            "Epoch 20: val_accuracy improved from 0.86673 to 0.87646, saving model to /content/drive/MyDrive/Teeth_Model_Checkpoints_ResNet50V2/best_efficientnetb0_teeth_model.keras\n",
            "\u001b[1m97/97\u001b[0m \u001b[32m━━━━━━━━━━━━━━━━━━━━\u001b[0m\u001b[37m\u001b[0m \u001b[1m49s\u001b[0m 505ms/step - accuracy: 0.7788 - loss: 0.6297 - val_accuracy: 0.8765 - val_loss: 0.4014\n",
            "Epoch 21/40\n",
            "\u001b[1m97/97\u001b[0m \u001b[32m━━━━━━━━━━━━━━━━━━━━\u001b[0m\u001b[37m\u001b[0m \u001b[1m0s\u001b[0m 445ms/step - accuracy: 0.8134 - loss: 0.5724\n",
            "Epoch 21: val_accuracy improved from 0.87646 to 0.88813, saving model to /content/drive/MyDrive/Teeth_Model_Checkpoints_ResNet50V2/best_efficientnetb0_teeth_model.keras\n",
            "\u001b[1m97/97\u001b[0m \u001b[32m━━━━━━━━━━━━━━━━━━━━\u001b[0m\u001b[37m\u001b[0m \u001b[1m49s\u001b[0m 505ms/step - accuracy: 0.8134 - loss: 0.5721 - val_accuracy: 0.8881 - val_loss: 0.3716\n",
            "Epoch 22/40\n",
            "\u001b[1m97/97\u001b[0m \u001b[32m━━━━━━━━━━━━━━━━━━━━\u001b[0m\u001b[37m\u001b[0m \u001b[1m0s\u001b[0m 445ms/step - accuracy: 0.8110 - loss: 0.5481\n",
            "Epoch 22: val_accuracy improved from 0.88813 to 0.90370, saving model to /content/drive/MyDrive/Teeth_Model_Checkpoints_ResNet50V2/best_efficientnetb0_teeth_model.keras\n",
            "\u001b[1m97/97\u001b[0m \u001b[32m━━━━━━━━━━━━━━━━━━━━\u001b[0m\u001b[37m\u001b[0m \u001b[1m83s\u001b[0m 512ms/step - accuracy: 0.8110 - loss: 0.5480 - val_accuracy: 0.9037 - val_loss: 0.3244\n",
            "Epoch 23/40\n",
            "\u001b[1m97/97\u001b[0m \u001b[32m━━━━━━━━━━━━━━━━━━━━\u001b[0m\u001b[37m\u001b[0m \u001b[1m0s\u001b[0m 425ms/step - accuracy: 0.8288 - loss: 0.4918\n",
            "Epoch 23: val_accuracy improved from 0.90370 to 0.90856, saving model to /content/drive/MyDrive/Teeth_Model_Checkpoints_ResNet50V2/best_efficientnetb0_teeth_model.keras\n",
            "\u001b[1m97/97\u001b[0m \u001b[32m━━━━━━━━━━━━━━━━━━━━\u001b[0m\u001b[37m\u001b[0m \u001b[1m80s\u001b[0m 491ms/step - accuracy: 0.8289 - loss: 0.4918 - val_accuracy: 0.9086 - val_loss: 0.3107\n",
            "Epoch 24/40\n",
            "\u001b[1m97/97\u001b[0m \u001b[32m━━━━━━━━━━━━━━━━━━━━\u001b[0m\u001b[37m\u001b[0m \u001b[1m0s\u001b[0m 426ms/step - accuracy: 0.8498 - loss: 0.4412\n",
            "Epoch 24: val_accuracy improved from 0.90856 to 0.91926, saving model to /content/drive/MyDrive/Teeth_Model_Checkpoints_ResNet50V2/best_efficientnetb0_teeth_model.keras\n",
            "\u001b[1m97/97\u001b[0m \u001b[32m━━━━━━━━━━━━━━━━━━━━\u001b[0m\u001b[37m\u001b[0m \u001b[1m81s\u001b[0m 486ms/step - accuracy: 0.8498 - loss: 0.4411 - val_accuracy: 0.9193 - val_loss: 0.2713\n",
            "Epoch 25/40\n",
            "\u001b[1m97/97\u001b[0m \u001b[32m━━━━━━━━━━━━━━━━━━━━\u001b[0m\u001b[37m\u001b[0m \u001b[1m0s\u001b[0m 432ms/step - accuracy: 0.8720 - loss: 0.3981\n",
            "Epoch 25: val_accuracy improved from 0.91926 to 0.92996, saving model to /content/drive/MyDrive/Teeth_Model_Checkpoints_ResNet50V2/best_efficientnetb0_teeth_model.keras\n",
            "\u001b[1m97/97\u001b[0m \u001b[32m━━━━━━━━━━━━━━━━━━━━\u001b[0m\u001b[37m\u001b[0m \u001b[1m82s\u001b[0m 491ms/step - accuracy: 0.8720 - loss: 0.3979 - val_accuracy: 0.9300 - val_loss: 0.2247\n",
            "Epoch 26/40\n",
            "\u001b[1m97/97\u001b[0m \u001b[32m━━━━━━━━━━━━━━━━━━━━\u001b[0m\u001b[37m\u001b[0m \u001b[1m0s\u001b[0m 443ms/step - accuracy: 0.8687 - loss: 0.3840\n",
            "Epoch 26: val_accuracy improved from 0.92996 to 0.93482, saving model to /content/drive/MyDrive/Teeth_Model_Checkpoints_ResNet50V2/best_efficientnetb0_teeth_model.keras\n",
            "\u001b[1m97/97\u001b[0m \u001b[32m━━━━━━━━━━━━━━━━━━━━\u001b[0m\u001b[37m\u001b[0m \u001b[1m85s\u001b[0m 525ms/step - accuracy: 0.8687 - loss: 0.3838 - val_accuracy: 0.9348 - val_loss: 0.2044\n",
            "Epoch 27/40\n",
            "\u001b[1m97/97\u001b[0m \u001b[32m━━━━━━━━━━━━━━━━━━━━\u001b[0m\u001b[37m\u001b[0m \u001b[1m0s\u001b[0m 442ms/step - accuracy: 0.8773 - loss: 0.3756\n",
            "Epoch 27: val_accuracy improved from 0.93482 to 0.94650, saving model to /content/drive/MyDrive/Teeth_Model_Checkpoints_ResNet50V2/best_efficientnetb0_teeth_model.keras\n",
            "\u001b[1m97/97\u001b[0m \u001b[32m━━━━━━━━━━━━━━━━━━━━\u001b[0m\u001b[37m\u001b[0m \u001b[1m82s\u001b[0m 524ms/step - accuracy: 0.8774 - loss: 0.3754 - val_accuracy: 0.9465 - val_loss: 0.1863\n",
            "Epoch 28/40\n",
            "\u001b[1m97/97\u001b[0m \u001b[32m━━━━━━━━━━━━━━━━━━━━\u001b[0m\u001b[37m\u001b[0m \u001b[1m0s\u001b[0m 445ms/step - accuracy: 0.9008 - loss: 0.3112\n",
            "Epoch 28: val_accuracy improved from 0.94650 to 0.95039, saving model to /content/drive/MyDrive/Teeth_Model_Checkpoints_ResNet50V2/best_efficientnetb0_teeth_model.keras\n",
            "\u001b[1m97/97\u001b[0m \u001b[32m━━━━━━━━━━━━━━━━━━━━\u001b[0m\u001b[37m\u001b[0m \u001b[1m82s\u001b[0m 525ms/step - accuracy: 0.9008 - loss: 0.3111 - val_accuracy: 0.9504 - val_loss: 0.1718\n",
            "Epoch 29/40\n",
            "\u001b[1m97/97\u001b[0m \u001b[32m━━━━━━━━━━━━━━━━━━━━\u001b[0m\u001b[37m\u001b[0m \u001b[1m0s\u001b[0m 442ms/step - accuracy: 0.9134 - loss: 0.2735\n",
            "Epoch 29: val_accuracy improved from 0.95039 to 0.95720, saving model to /content/drive/MyDrive/Teeth_Model_Checkpoints_ResNet50V2/best_efficientnetb0_teeth_model.keras\n",
            "\u001b[1m97/97\u001b[0m \u001b[32m━━━━━━━━━━━━━━━━━━━━\u001b[0m\u001b[37m\u001b[0m \u001b[1m81s\u001b[0m 520ms/step - accuracy: 0.9134 - loss: 0.2735 - val_accuracy: 0.9572 - val_loss: 0.1379\n",
            "Epoch 30/40\n",
            "\u001b[1m97/97\u001b[0m \u001b[32m━━━━━━━━━━━━━━━━━━━━\u001b[0m\u001b[37m\u001b[0m \u001b[1m0s\u001b[0m 438ms/step - accuracy: 0.9231 - loss: 0.2580\n",
            "Epoch 30: val_accuracy did not improve from 0.95720\n",
            "\u001b[1m97/97\u001b[0m \u001b[32m━━━━━━━━━━━━━━━━━━━━\u001b[0m\u001b[37m\u001b[0m \u001b[1m78s\u001b[0m 474ms/step - accuracy: 0.9231 - loss: 0.2579 - val_accuracy: 0.9572 - val_loss: 0.1366\n",
            "Epoch 31/40\n",
            "\u001b[1m97/97\u001b[0m \u001b[32m━━━━━━━━━━━━━━━━━━━━\u001b[0m\u001b[37m\u001b[0m \u001b[1m0s\u001b[0m 426ms/step - accuracy: 0.9220 - loss: 0.2313\n",
            "Epoch 31: val_accuracy improved from 0.95720 to 0.96401, saving model to /content/drive/MyDrive/Teeth_Model_Checkpoints_ResNet50V2/best_efficientnetb0_teeth_model.keras\n",
            "\u001b[1m97/97\u001b[0m \u001b[32m━━━━━━━━━━━━━━━━━━━━\u001b[0m\u001b[37m\u001b[0m \u001b[1m83s\u001b[0m 485ms/step - accuracy: 0.9220 - loss: 0.2313 - val_accuracy: 0.9640 - val_loss: 0.1168\n",
            "Epoch 32/40\n",
            "\u001b[1m97/97\u001b[0m \u001b[32m━━━━━━━━━━━━━━━━━━━━\u001b[0m\u001b[37m\u001b[0m \u001b[1m0s\u001b[0m 437ms/step - accuracy: 0.9339 - loss: 0.1992\n",
            "Epoch 32: val_accuracy improved from 0.96401 to 0.96693, saving model to /content/drive/MyDrive/Teeth_Model_Checkpoints_ResNet50V2/best_efficientnetb0_teeth_model.keras\n",
            "\u001b[1m97/97\u001b[0m \u001b[32m━━━━━━━━━━━━━━━━━━━━\u001b[0m\u001b[37m\u001b[0m \u001b[1m89s\u001b[0m 556ms/step - accuracy: 0.9340 - loss: 0.1992 - val_accuracy: 0.9669 - val_loss: 0.1129\n",
            "Epoch 33/40\n",
            "\u001b[1m97/97\u001b[0m \u001b[32m━━━━━━━━━━━━━━━━━━━━\u001b[0m\u001b[37m\u001b[0m \u001b[1m0s\u001b[0m 438ms/step - accuracy: 0.9405 - loss: 0.1898\n",
            "Epoch 33: val_accuracy improved from 0.96693 to 0.97665, saving model to /content/drive/MyDrive/Teeth_Model_Checkpoints_ResNet50V2/best_efficientnetb0_teeth_model.keras\n",
            "\u001b[1m97/97\u001b[0m \u001b[32m━━━━━━━━━━━━━━━━━━━━\u001b[0m\u001b[37m\u001b[0m \u001b[1m82s\u001b[0m 555ms/step - accuracy: 0.9405 - loss: 0.1897 - val_accuracy: 0.9767 - val_loss: 0.0933\n",
            "Epoch 34/40\n",
            "\u001b[1m97/97\u001b[0m \u001b[32m━━━━━━━━━━━━━━━━━━━━\u001b[0m\u001b[37m\u001b[0m \u001b[1m0s\u001b[0m 435ms/step - accuracy: 0.9415 - loss: 0.1816\n",
            "Epoch 34: val_accuracy did not improve from 0.97665\n",
            "\u001b[1m97/97\u001b[0m \u001b[32m━━━━━━━━━━━━━━━━━━━━\u001b[0m\u001b[37m\u001b[0m \u001b[1m75s\u001b[0m 489ms/step - accuracy: 0.9415 - loss: 0.1815 - val_accuracy: 0.9737 - val_loss: 0.1002\n",
            "Epoch 35/40\n",
            "\u001b[1m97/97\u001b[0m \u001b[32m━━━━━━━━━━━━━━━━━━━━\u001b[0m\u001b[37m\u001b[0m \u001b[1m0s\u001b[0m 430ms/step - accuracy: 0.9492 - loss: 0.1670\n",
            "Epoch 35: val_accuracy did not improve from 0.97665\n",
            "\u001b[1m97/97\u001b[0m \u001b[32m━━━━━━━━━━━━━━━━━━━━\u001b[0m\u001b[37m\u001b[0m \u001b[1m80s\u001b[0m 467ms/step - accuracy: 0.9492 - loss: 0.1670 - val_accuracy: 0.9747 - val_loss: 0.0887\n",
            "Epoch 36/40\n",
            "\u001b[1m97/97\u001b[0m \u001b[32m━━━━━━━━━━━━━━━━━━━━\u001b[0m\u001b[37m\u001b[0m \u001b[1m0s\u001b[0m 432ms/step - accuracy: 0.9492 - loss: 0.1568\n",
            "Epoch 36: val_accuracy did not improve from 0.97665\n",
            "\u001b[1m97/97\u001b[0m \u001b[32m━━━━━━━━━━━━━━━━━━━━\u001b[0m\u001b[37m\u001b[0m \u001b[1m82s\u001b[0m 467ms/step - accuracy: 0.9492 - loss: 0.1567 - val_accuracy: 0.9757 - val_loss: 0.0779\n",
            "Epoch 37/40\n",
            "\u001b[1m97/97\u001b[0m \u001b[32m━━━━━━━━━━━━━━━━━━━━\u001b[0m\u001b[37m\u001b[0m \u001b[1m0s\u001b[0m 431ms/step - accuracy: 0.9540 - loss: 0.1426\n",
            "Epoch 37: val_accuracy did not improve from 0.97665\n",
            "\u001b[1m97/97\u001b[0m \u001b[32m━━━━━━━━━━━━━━━━━━━━\u001b[0m\u001b[37m\u001b[0m \u001b[1m82s\u001b[0m 467ms/step - accuracy: 0.9540 - loss: 0.1427 - val_accuracy: 0.9757 - val_loss: 0.0732\n",
            "Epoch 38/40\n",
            "\u001b[1m97/97\u001b[0m \u001b[32m━━━━━━━━━━━━━━━━━━━━\u001b[0m\u001b[37m\u001b[0m \u001b[1m0s\u001b[0m 426ms/step - accuracy: 0.9596 - loss: 0.1335\n",
            "Epoch 38: val_accuracy improved from 0.97665 to 0.97763, saving model to /content/drive/MyDrive/Teeth_Model_Checkpoints_ResNet50V2/best_efficientnetb0_teeth_model.keras\n",
            "\u001b[1m97/97\u001b[0m \u001b[32m━━━━━━━━━━━━━━━━━━━━\u001b[0m\u001b[37m\u001b[0m \u001b[1m84s\u001b[0m 488ms/step - accuracy: 0.9596 - loss: 0.1335 - val_accuracy: 0.9776 - val_loss: 0.0734\n",
            "Epoch 39/40\n",
            "\u001b[1m97/97\u001b[0m \u001b[32m━━━━━━━━━━━━━━━━━━━━\u001b[0m\u001b[37m\u001b[0m \u001b[1m0s\u001b[0m 434ms/step - accuracy: 0.9611 - loss: 0.1157\n",
            "Epoch 39: val_accuracy improved from 0.97763 to 0.98541, saving model to /content/drive/MyDrive/Teeth_Model_Checkpoints_ResNet50V2/best_efficientnetb0_teeth_model.keras\n",
            "\u001b[1m97/97\u001b[0m \u001b[32m━━━━━━━━━━━━━━━━━━━━\u001b[0m\u001b[37m\u001b[0m \u001b[1m50s\u001b[0m 511ms/step - accuracy: 0.9611 - loss: 0.1158 - val_accuracy: 0.9854 - val_loss: 0.0601\n",
            "Epoch 40/40\n",
            "\u001b[1m97/97\u001b[0m \u001b[32m━━━━━━━━━━━━━━━━━━━━\u001b[0m\u001b[37m\u001b[0m \u001b[1m0s\u001b[0m 430ms/step - accuracy: 0.9704 - loss: 0.1069\n",
            "Epoch 40: val_accuracy improved from 0.98541 to 0.98735, saving model to /content/drive/MyDrive/Teeth_Model_Checkpoints_ResNet50V2/best_efficientnetb0_teeth_model.keras\n",
            "\u001b[1m97/97\u001b[0m \u001b[32m━━━━━━━━━━━━━━━━━━━━\u001b[0m\u001b[37m\u001b[0m \u001b[1m80s\u001b[0m 495ms/step - accuracy: 0.9704 - loss: 0.1069 - val_accuracy: 0.9874 - val_loss: 0.0540\n",
            "Restoring model weights from the end of the best epoch: 40.\n",
            "\n",
            "Step 3: Model Training - Completed successfully!\n"
          ]
        }
      ]
    },
    {
      "cell_type": "code",
      "source": [
        "#Evaluate model\n",
        "\n",
        "import matplotlib.pyplot as plt\n",
        "import tensorflow as tf\n",
        "\n",
        "\n",
        "test_results = model.evaluate(test_ds)\n",
        "\n",
        "test_loss = test_results[0]\n",
        "test_accuracy = test_results[1]\n",
        "\n",
        "print(f\"\\nFinal Test Loss: {test_loss:.4f}\")\n",
        "print(f\"Final Test Accuracy: {test_accuracy:.4f}\")\n",
        "\n",
        "if 'history' in locals() and history is not None:\n",
        "    acc = history.history['accuracy']\n",
        "    val_acc = history.history['val_accuracy']\n",
        "    loss = history.history['loss']\n",
        "    val_loss = history.history['val_loss']\n",
        "    epochs_range = range(len(acc))\n",
        "\n",
        "    plt.figure(figsize=(12, 6))\n",
        "\n",
        "    plt.subplot(1, 2, 1)\n",
        "    plt.plot(epochs_range, acc, label='Training Accuracy')\n",
        "    plt.plot(epochs_range, val_acc, label='Validation Accuracy')\n",
        "    plt.legend(loc='lower right')\n",
        "    plt.title('Training and Validation Accuracy')\n",
        "    plt.xlabel('Epoch')\n",
        "    plt.ylabel('Accuracy')\n",
        "    plt.grid(True)\n",
        "\n",
        "    plt.subplot(1, 2, 2)\n",
        "    plt.plot(epochs_range, loss, label='Training Loss')\n",
        "    plt.plot(epochs_range, val_loss, label='Validation Loss')\n",
        "    plt.legend(loc='upper right')\n",
        "    plt.title('Training and Validation Loss')\n",
        "    plt.xlabel('Epoch')\n",
        "    plt.ylabel('Loss')\n",
        "    plt.grid(True)\n",
        "\n",
        "    plt.show()\n",
        "else:\n",
        "    print(\"Warning: Training history ('history') not found. Unable to plot.  ensure Step 3.2 was run correctly.\")\n"
      ],
      "metadata": {
        "colab": {
          "base_uri": "https://localhost:8080/",
          "height": 536
        },
        "id": "L8yxASPnRQsX",
        "outputId": "ec8cc58b-ad2b-49b4-bf76-baef36e6688d"
      },
      "execution_count": null,
      "outputs": [
        {
          "output_type": "stream",
          "name": "stdout",
          "text": [
            "\u001b[1m33/33\u001b[0m \u001b[32m━━━━━━━━━━━━━━━━━━━━\u001b[0m\u001b[37m\u001b[0m \u001b[1m4s\u001b[0m 128ms/step - accuracy: 0.9929 - loss: 0.0286\n",
            "\n",
            "Final Test Loss: 0.0541\n",
            "Final Test Accuracy: 0.9874\n"
          ]
        },
        {
          "output_type": "display_data",
          "data": {
            "text/plain": [
              "<Figure size 1200x600 with 2 Axes>"
            ],
            "image/png": "[encoded data removed]"
          },
          "metadata": {}
        }
      ]
    },
    {
      "cell_type": "code",
      "source": [
        "#test acc on train data\n",
        "\n",
        "print(\"\\nEvaluating accuracy on training data (train_ds)\")\n",
        "train_loss, train_accuracy = model.evaluate(train_ds, verbose=1)\n",
        "print(f\"Training Accuracy: {train_accuracy:.4f}\")"
      ],
      "metadata": {
        "colab": {
          "base_uri": "https://localhost:8080/"
        },
        "id": "oGB5WtL9RezF",
        "outputId": "391afd25-fda2-40cf-ae5b-17f98d5d32c6"
      },
      "execution_count": null,
      "outputs": [
        {
          "output_type": "stream",
          "name": "stdout",
          "text": [
            "\n",
            "Evaluating accuracy on training data (train_ds)\n",
            "\u001b[1m97/97\u001b[0m \u001b[32m━━━━━━━━━━━━━━━━━━━━\u001b[0m\u001b[37m\u001b[0m \u001b[1m10s\u001b[0m 102ms/step - accuracy: 0.9939 - loss: 0.0243\n",
            "Training Accuracy: 0.9932\n"
          ]
        }
      ]
    },
    {
      "cell_type": "code",
      "source": [
        "#test acc in test data\n",
        "print(\"\\nEvaluating accuracy on test data (test_ds)\")\n",
        "test_loss, test_accuracy = model.evaluate(test_ds, verbose=1)\n",
        "print(f\"Test Accuracy: {test_accuracy:.4f}\")"
      ],
      "metadata": {
        "colab": {
          "base_uri": "https://localhost:8080/"
        },
        "id": "uuRC4ReeRh2E",
        "outputId": "4a0b3ba7-527e-4875-9a51-f673fe5ecb0e"
      },
      "execution_count": null,
      "outputs": [
        {
          "output_type": "stream",
          "name": "stdout",
          "text": [
            "\n",
            "Evaluating accuracy on test data (test_ds)\n",
            "\u001b[1m33/33\u001b[0m \u001b[32m━━━━━━━━━━━━━━━━━━━━\u001b[0m\u001b[37m\u001b[0m \u001b[1m3s\u001b[0m 96ms/step - accuracy: 0.9929 - loss: 0.0286\n",
            "Test Accuracy: 0.9874\n"
          ]
        }
      ]
    },
    {
      "cell_type": "code",
      "source": [
        "#Saving the final  model\n",
        "\n",
        "final_model_save_path = os.path.join(checkpoint_dir, 'final_teeth_classification_model.keras')\n",
        "\n",
        "try:\n",
        "    model.save(final_model_save_path)\n",
        "    print(f\"Final model saved successfully to: {final_model_save_path}\")\n",
        "except Exception as e:\n",
        "    print(f\"Error saving the final model: {e}\")\n",
        "    print(\"Please ensure your Google Drive has enough space and is mounted correctly.\")\n",
        "\n",
        "print(\"\\nStep : Saving the Final Model - Completed successfully!\")"
      ],
      "metadata": {
        "colab": {
          "base_uri": "https://localhost:8080/"
        },
        "id": "o0e7K1_xSACa",
        "outputId": "c9f42f24-ece7-4bc7-8dc9-108cf2649838"
      },
      "execution_count": null,
      "outputs": [
        {
          "output_type": "stream",
          "name": "stdout",
          "text": [
            "Final model saved successfully to: /content/drive/MyDrive/Teeth_Model_Checkpoints_ResNet50V2/final_teeth_classification_model.keras\n",
            "\n",
            "Step : Saving the Final Model - Completed successfully!\n"
          ]
        }
      ]
    },
    {
      "cell_type": "code",
      "source": [
        "#Streamlit code\n",
        "print(\"\\nStep : Writing the Streamlit Application Code\")\n",
        "streamlit_app_code = \"\"\"\n",
        "import streamlit as st\n",
        "import tensorflow as tf\n",
        "import numpy as np\n",
        "from PIL import Image\n",
        "import os\n",
        "\n",
        "# --- Configuration for your App ---\n",
        "IMG_HEIGHT = 224\n",
        "IMG_WIDTH = 224\n",
        "\n",
        "CLASS_NAMES = ['CaS', 'CoS', 'Gum', 'MC', 'OC', 'OLP', 'OT']\n",
        "#هون رح ابعثله باث الموديل الي انا حفظته\n",
        "MODEL_PATH = '/content/drive/MyDrive/Teeth_Model_Checkpoints_ResNet50V2/final_teeth_classification_model.keras'\n",
        "\n",
        "#هسا هون بدي احمل ال trained model\n",
        "@st.cache_resource\n",
        "def load_my_model():\n",
        "    try:\n",
        "        model = tf.keras.models.load_model(MODEL_PATH)\n",
        "        return model\n",
        "    except Exception as e:\n",
        "        st.error(f\"Error loading the model. Make sure '{MODEL_PATH}' is correct and accessible.\")\n",
        "        st.error(f\"Error details: {e}\")\n",
        "        return None\n",
        "\n",
        "my_model = load_my_model()\n",
        "\n",
        "#هون كود التوقعات\n",
        "def make_prediction(image_input):\n",
        "    if my_model is None:\n",
        "        return \"Model not loaded.\", 0.0\n",
        "\n",
        "    img = Image.open(image_input).convert('RGB')\n",
        "    img = img.resize((IMG_WIDTH, IMG_HEIGHT))\n",
        "    img_array = np.array(img)\n",
        "    img_array = np.expand_dims(img_array, axis=0) # Add batch dimension (1 image)\n",
        "\n",
        "    processed_img = tf.keras.applications.resnet_v2.preprocess_input(img_array)\n",
        "\n",
        "    st.sidebar.subheader(\"Debugging Info (Preprocessed Image)\")\n",
        "    st.sidebar.write(f\"Shape of processed_img: {processed_img.shape}\")\n",
        "    st.sidebar.write(f\"Data type of processed_img: {processed_img.dtype}\")\n",
        "    st.sidebar.write(f\"Min pixel value: {np.min(processed_img):.4f}\")\n",
        "    st.sidebar.write(f\"Max pixel value: {np.max(processed_img):.4f}\")\n",
        "\n",
        "    predictions = my_model.predict(processed_img)\n",
        "    predicted_probabilities = predictions[0]\n",
        "\n",
        "    predicted_class_id = np.argmax(predicted_probabilities)\n",
        "    predicted_class_name = CLASS_NAMES[predicted_class_id]\n",
        "    confidence = predicted_probabilities[predicted_class_id] * 100\n",
        "\n",
        "    return predicted_class_name, confidence\n",
        "\n",
        "st.set_page_config(\n",
        "    page_title=\"Dental diseases classifier\",\n",
        "    page_icon=\"🦷\",\n",
        "    layout=\"centered\"\n",
        ")\n",
        "\n",
        "st.title(\"🦷 Dental Image Classifier\")\n",
        "st.markdown(\"Upload a dental image and let the model predict the condition.\")\n",
        "\n",
        "if my_model is None:\n",
        "    st.warning(\"Model could not be loaded. Please fix the path and restart the app.\")\n",
        "else:\n",
        "    uploaded_file = st.file_uploader(\"Choose an image file...\", type = [\"jpg\", \"jpeg\", \"png\", \"bmp\", \"gif\", \"tiff\", \"tif\", \"webp\", \"heif\", \"heic\", \"svg\"])\n",
        "\n",
        "    if uploaded_file is not None:\n",
        "        st.image(uploaded_file, caption='Uploaded Image', use_column_width=True)\n",
        "        st.write(\"---\")\n",
        "\n",
        "        with st.spinner('Classifying image...'):\n",
        "            class_name, confidence = make_prediction(uploaded_file)\n",
        "\n",
        "        if class_name != \"Model not loaded.\":\n",
        "            if confidence < 50.0:\n",
        "                st.warning(f\"**Low Confidence Prediction: {class_name}**\")\n",
        "                st.warning(f\"Confidence: {confidence:.2f}% (Model is not very certain, result may be unreliable)\")\n",
        "            else:\n",
        "                st.success(f\"**Prediction: {class_name}**\")\n",
        "                st.info(f\"Confidence: {confidence:.2f}%\")\n",
        "        else:\n",
        "            st.error(class_name)\n",
        "\n",
        "st.markdown(\"---\")\n",
        "st.markdown(\"App created with Streamlit and TensorFlow .\")\n",
        "st.markdown(\"Developer is Mohammad Harb intern ship in cellula teck\")\n",
        "\"\"\"\n",
        "streamlit_app_file_path = os.path.join(checkpoint_dir, \"app.py\")\n",
        "\n",
        "with open(streamlit_app_file_path, \"w\") as f:\n",
        "    f.write(streamlit_app_code)\n",
        "\n",
        "print(f\"Streamlit app code saved as: {streamlit_app_file_path}\")\n",
        "print(\"straemlit built Completed successfully\")\n"
      ],
      "metadata": {
        "colab": {
          "base_uri": "https://localhost:8080/"
        },
        "id": "qM5NNylQSkbq",
        "outputId": "8bfeb2f7-4fa9-4413-9d5c-9f642c634b5b"
      },
      "execution_count": null,
      "outputs": [
        {
          "output_type": "stream",
          "name": "stdout",
          "text": [
            "\n",
            "Step : Writing the Streamlit Application Code\n",
            "Streamlit app code saved as: /content/drive/MyDrive/Teeth_Model_Checkpoints_ResNet50V2/app.py\n",
            "straemlit built Completed successfully\n"
          ]
        }
      ]
    },
    {
      "cell_type": "code",
      "source": [
        "\n",
        "!pip install pyngrok"
      ],
      "metadata": {
        "colab": {
          "base_uri": "https://localhost:8080/"
        },
        "id": "vknrDnb2XBoY",
        "outputId": "35b77ae5-b528-422b-a8d2-303a5b4e4d2c"
      },
      "execution_count": null,
      "outputs": [
        {
          "output_type": "stream",
          "name": "stdout",
          "text": [
            "Requirement already satisfied: pyngrok in /usr/local/lib/python3.11/dist-packages (7.2.12)\n",
            "Requirement already satisfied: PyYAML>=5.1 in /usr/local/lib/python3.11/dist-packages (from pyngrok) (6.0.2)\n"
          ]
        }
      ]
    },
    {
      "cell_type": "code",
      "source": [
        "!pip install streamlit"
      ],
      "metadata": {
        "colab": {
          "base_uri": "https://localhost:8080/"
        },
        "id": "RJL6SSa_3xd7",
        "outputId": "29999bb0-c7e2-421e-fb55-722dc8187517"
      },
      "execution_count": null,
      "outputs": [
        {
          "output_type": "stream",
          "name": "stdout",
          "text": [
            "Requirement already satisfied: streamlit in /usr/local/lib/python3.11/dist-packages (1.46.1)\n",
            "Requirement already satisfied: altair<6,>=4.0 in /usr/local/lib/python3.11/dist-packages (from streamlit) (5.5.0)\n",
            "Requirement already satisfied: blinker<2,>=1.5.0 in /usr/local/lib/python3.11/dist-packages (from streamlit) (1.9.0)\n",
            "Requirement already satisfied: cachetools<7,>=4.0 in /usr/local/lib/python3.11/dist-packages (from streamlit) (5.5.2)\n",
            "Requirement already satisfied: click<9,>=7.0 in /usr/local/lib/python3.11/dist-packages (from streamlit) (8.2.1)\n",
            "Requirement already satisfied: numpy<3,>=1.23 in /usr/local/lib/python3.11/dist-packages (from streamlit) (2.0.2)\n",
            "Requirement already satisfied: packaging<26,>=20 in /usr/local/lib/python3.11/dist-packages (from streamlit) (24.2)\n",
            "Requirement already satisfied: pandas<3,>=1.4.0 in /usr/local/lib/python3.11/dist-packages (from streamlit) (2.2.2)\n",
            "Requirement already satisfied: pillow<12,>=7.1.0 in /usr/local/lib/python3.11/dist-packages (from streamlit) (11.2.1)\n",
            "Requirement already satisfied: protobuf<7,>=3.20 in /usr/local/lib/python3.11/dist-packages (from streamlit) (5.29.5)\n",
            "Requirement already satisfied: pyarrow>=7.0 in /usr/local/lib/python3.11/dist-packages (from streamlit) (18.1.0)\n",
            "Requirement already satisfied: requests<3,>=2.27 in /usr/local/lib/python3.11/dist-packages (from streamlit) (2.32.3)\n",
            "Requirement already satisfied: tenacity<10,>=8.1.0 in /usr/local/lib/python3.11/dist-packages (from streamlit) (8.5.0)\n",
            "Requirement already satisfied: toml<2,>=0.10.1 in /usr/local/lib/python3.11/dist-packages (from streamlit) (0.10.2)\n",
            "Requirement already satisfied: typing-extensions<5,>=4.4.0 in /usr/local/lib/python3.11/dist-packages (from streamlit) (4.14.1)\n",
            "Requirement already satisfied: watchdog<7,>=2.1.5 in /usr/local/lib/python3.11/dist-packages (from streamlit) (6.0.0)\n",
            "Requirement already satisfied: gitpython!=3.1.19,<4,>=3.0.7 in /usr/local/lib/python3.11/dist-packages (from streamlit) (3.1.44)\n",
            "Requirement already satisfied: pydeck<1,>=0.8.0b4 in /usr/local/lib/python3.11/dist-packages (from streamlit) (0.9.1)\n",
            "Requirement already satisfied: tornado!=6.5.0,<7,>=6.0.3 in /usr/local/lib/python3.11/dist-packages (from streamlit) (6.4.2)\n",
            "Requirement already satisfied: jinja2 in /usr/local/lib/python3.11/dist-packages (from altair<6,>=4.0->streamlit) (3.1.6)\n",
            "Requirement already satisfied: jsonschema>=3.0 in /usr/local/lib/python3.11/dist-packages (from altair<6,>=4.0->streamlit) (4.24.0)\n",
            "Requirement already satisfied: narwhals>=1.14.2 in /usr/local/lib/python3.11/dist-packages (from altair<6,>=4.0->streamlit) (1.46.0)\n",
            "Requirement already satisfied: gitdb<5,>=4.0.1 in /usr/local/lib/python3.11/dist-packages (from gitpython!=3.1.19,<4,>=3.0.7->streamlit) (4.0.12)\n",
            "Requirement already satisfied: python-dateutil>=2.8.2 in /usr/local/lib/python3.11/dist-packages (from pandas<3,>=1.4.0->streamlit) (2.9.0.post0)\n",
            "Requirement already satisfied: pytz>=2020.1 in /usr/local/lib/python3.11/dist-packages (from pandas<3,>=1.4.0->streamlit) (2025.2)\n",
            "Requirement already satisfied: tzdata>=2022.7 in /usr/local/lib/python3.11/dist-packages (from pandas<3,>=1.4.0->streamlit) (2025.2)\n",
            "Requirement already satisfied: charset-normalizer<4,>=2 in /usr/local/lib/python3.11/dist-packages (from requests<3,>=2.27->streamlit) (3.4.2)\n",
            "Requirement already satisfied: idna<4,>=2.5 in /usr/local/lib/python3.11/dist-packages (from requests<3,>=2.27->streamlit) (3.10)\n",
            "Requirement already satisfied: urllib3<3,>=1.21.1 in /usr/local/lib/python3.11/dist-packages (from requests<3,>=2.27->streamlit) (2.4.0)\n",
            "Requirement already satisfied: certifi>=2017.4.17 in /usr/local/lib/python3.11/dist-packages (from requests<3,>=2.27->streamlit) (2025.7.9)\n",
            "Requirement already satisfied: smmap<6,>=3.0.1 in /usr/local/lib/python3.11/dist-packages (from gitdb<5,>=4.0.1->gitpython!=3.1.19,<4,>=3.0.7->streamlit) (5.0.2)\n",
            "Requirement already satisfied: MarkupSafe>=2.0 in /usr/local/lib/python3.11/dist-packages (from jinja2->altair<6,>=4.0->streamlit) (3.0.2)\n",
            "Requirement already satisfied: attrs>=22.2.0 in /usr/local/lib/python3.11/dist-packages (from jsonschema>=3.0->altair<6,>=4.0->streamlit) (25.3.0)\n",
            "Requirement already satisfied: jsonschema-specifications>=2023.03.6 in /usr/local/lib/python3.11/dist-packages (from jsonschema>=3.0->altair<6,>=4.0->streamlit) (2025.4.1)\n",
            "Requirement already satisfied: referencing>=0.28.4 in /usr/local/lib/python3.11/dist-packages (from jsonschema>=3.0->altair<6,>=4.0->streamlit) (0.36.2)\n",
            "Requirement already satisfied: rpds-py>=0.7.1 in /usr/local/lib/python3.11/dist-packages (from jsonschema>=3.0->altair<6,>=4.0->streamlit) (0.26.0)\n",
            "Requirement already satisfied: six>=1.5 in /usr/local/lib/python3.11/dist-packages (from python-dateutil>=2.8.2->pandas<3,>=1.4.0->streamlit) (1.17.0)\n"
          ]
        }
      ]
    },
    {
      "cell_type": "code",
      "source": [
        "# ngrokهون من خلال تقنيه\n",
        "#قدرت اشغل تطبيقي ال stramlit\n",
        "\n",
        "from pyngrok import ngrok\n",
        "#من خلال ال ngroc قدرت اعمل نفق عشان اوصل التطبيق تبعي ع النت\n",
        "\n",
        "import os\n",
        "import subprocess\n",
        "#هاي المكتبه بتخليني اشتغل على اوامر زي التيرمنال ع كود بايثون\n",
        "import time\n",
        "# ngrokمن هون بجيب هاي المكتبه عشان اوقف الكود ثواني قليله عشان اعطي ستريم ليت وقت كافي يشتغل قبل ما نحاول نربط فيه ngrok\n",
        "\n",
        "NGROK_AUTH_TOKEN = \"2zhY6b8SyWCiwYUTl0sXTqvDBOQ_7YWaT86DrVdFYUWWz1J87\"\n",
        "#بجيبه من الموقع\n",
        "\n",
        "if NGROK_AUTH_TOKEN == \"YOUR_NGROK_AUTH_TOKEN_HERE\":\n",
        "    # هاي اذا الرابط تبعي اذا تحقق والرابط وجود بنزل ع الكود تحت وبنفذ\n",
        "    print(\"Error: Please get your ngrok Auth Token from https://ngrok.com/dashboard/your-authtoken and replace 'YOUR_NGROK_AUTH_TOKEN_HERE' in the code.\")\n",
        "else:\n",
        "    try:\n",
        "        ngrok.set_auth_token(NGROK_AUTH_TOKEN)\n",
        "        print(\"Authentication of ngrok successful.\")\n",
        "    except Exception as e:\n",
        "        print(f\"Error authenticating ngrok: {e}\")\n",
        "        print(\"Please check your ngrok Auth Token again.\")\n",
        "\n",
        "    streamlit_app_file_path = os.path.join(checkpoint_dir, 'app.py')\n",
        "\n",
        "    if not os.path.exists(streamlit_app_file_path):\n",
        "        print(f\"Error: Streamlit app file not found at the specified path: {streamlit_app_file_path}.  ensure you have run Step 6.2 correctly again.\")\n",
        "    else:\n",
        "        #بدء تشيغيل ستريم ليت\n",
        "        print(f\"Starting Streamlit application: {streamlit_app_file_path}\")\n",
        "        #هاض الامر الي بشغل تطبيق ستريم ليت فعليا\n",
        "        process = subprocess.Popen(\n",
        "            [\"streamlit\", \"run\", streamlit_app_file_path, \"--server.port\", \"8501\", \"--server.enableCORS\", \"false\"],\n",
        "            stdout=subprocess.PIPE,\n",
        "            stderr=subprocess.PIPE,\n",
        "            text=True\n",
        "        )\n",
        "        print(\"start run app streamlit in the background\")\n",
        "\n",
        "        #print(هسا بدنا نبلش نعمل ربط ngrok , streamlit)\n",
        "\n",
        "        try:\n",
        "            time.sleep(5)\n",
        "\n",
        "            public_url = ngrok.connect(8501).public_url\n",
        "            print(f\"\\nYour Streamlit application is now running at: {public_url}\")\n",
        "            print(\"\\nPlease click the link above to open the application in your browser.\")\n",
        "            print(\"To stop the application, you must stop the execution of this cell in Google Colab (by clicking the stop button).\")\n",
        "        except Exception as e:\n",
        "            print(f\"Error creating ngrok tunnel: {e}\")\n",
        "            print(\"Please check your ngrok Auth Token in the previous step and ensure Streamlit started correctly.\")\n",
        "            print(\"If you see a 'Your account is limited to 1 tunnel' message, you might have multiple active tunnels. You can disconnect previous tunnels from the ngrok dashboard or by running ngrok.kill() if possible.\")\n"
      ],
      "metadata": {
        "colab": {
          "base_uri": "https://localhost:8080/"
        },
        "id": "fCOClFHgVdDf",
        "outputId": "1e7189be-d5da-40d4-8485-3a555a61fad5"
      },
      "execution_count": null,
      "outputs": [
        {
          "output_type": "stream",
          "name": "stdout",
          "text": [
            "Authentication of ngrok successful.\n",
            "Starting Streamlit application: /content/drive/MyDrive/Teeth_Model_Checkpoints_ResNet50V2/app.py\n",
            "start run app streamlit in the background\n",
            "\n",
            "Your Streamlit application is now running at: https://f8c75fdbfe22.ngrok-free.app\n",
            "\n",
            "Please click the link above to open the application in your browser.\n",
            "To stop the application, you must stop the execution of this cell in Google Colab (by clicking the stop button).\n"
          ]
        }
      ]
    },
    {
      "cell_type": "code",
      "source": [
        "from pyngrok import ngrok\n",
        "ngrok.kill()\n",
        "print(\"All ngrok tunnels have been killed.\")\n",
        "#هاض الكود عشان اسكر كل التنلز تبعون انجروك الي بصيروا بس افتح كثير\n"
      ],
      "metadata": {
        "colab": {
          "base_uri": "https://localhost:8080/"
        },
        "id": "CsDZy4td8Izc",
        "outputId": "9a94fa83-265d-4335-b85c-c7817b7c603a"
      },
      "execution_count": null,
      "outputs": [
        {
          "output_type": "stream",
          "name": "stdout",
          "text": [
            "All ngrok tunnels have been killed.\n"
          ]
        }
      ]
    },
    {
      "cell_type": "code",
      "source": [
        "import os\n",
        "\n",
        "model_path_to_check = '/content/drive/MyDrive/Teeth_Model_Checkpoints_ResNet50V2/final_teeth_classification_model.keras'\n",
        "\n",
        "if os.path.exists(model_path_to_check):\n",
        "    print(f\"Success: The model file exists at: {model_path_to_check}\")\n",
        "    print(f\"File size: {os.path.getsize(model_path_to_check) / (1024 * 1024):.2f} MB\")\n",
        "else:\n",
        "    print(f\"Error: The model file DOES NOT exist at: {model_path_to_check}\")\n",
        "    print(\"Please ensure:\")\n",
        "    print(\"1. Your Google Drive is mounted correctly.\")\n",
        "    print(\"2. You have run 'Step 6.1: Saving the Final Model' successfully and without errors.\")\n",
        "    print(\"3. The path in 'Step 6.1' matches this path exactly.\")\n",
        "\n",
        "# Check if Google Drive is mounted\n",
        "if not os.path.exists('/content/drive'):\n",
        "    print(\"\\nWarning: Google Drive is not mounted. Please mount it by running the Google Drive mounting cell.\")\n",
        "elif not os.path.exists('/content/drive/MyDrive'):\n",
        "    print(\"\\nWarning: MyDrive not found. Check Google Drive mounting permissions.\")\n"
      ],
      "metadata": {
        "colab": {
          "base_uri": "https://localhost:8080/"
        },
        "id": "QWOyESc5cqt6",
        "outputId": "d8ae2d94-28da-410c-b804-6927af9195c5"
      },
      "execution_count": null,
      "outputs": [
        {
          "output_type": "stream",
          "name": "stdout",
          "text": [
            "Success: The model file exists at: /content/drive/MyDrive/Teeth_Model_Checkpoints_ResNet50V2/final_teeth_classification_model.keras\n",
            "File size: 276.52 MB\n"
          ]
        }
      ]
    },
    {
      "cell_type": "code",
      "source": [
        "import tensorflow as tf\n",
        "import os\n",
        "\n",
        "model_path_to_load = '/content/drive/MyDrive/Teeth_Model_Checkpoints_ResNet50V2/final_teeth_classification_model.keras'\n",
        "\n",
        "print(f\"Attempting to load model from: {model_path_to_load}\")\n",
        "\n",
        "try:\n",
        "    loaded_model = tf.keras.models.load_model(model_path_to_load)\n",
        "    print(\"\\nSuccess: Model loaded successfully in a separate cell!\")\n",
        "    loaded_model.summary()\n",
        "except Exception as e:\n",
        "    print(f\"\\nError: Failed to load model in a separate cell. Details: {e}\")\n",
        "    print(\"This indicates a potential issue with the saved model file itself or TensorFlow's ability to deserialize it.\")\n",
        "\n",
        "\n",
        "#تاكد اني متصل لسا بالدرايف تبعي\n",
        "if not os.path.exists('/content/drive/MyDrive'):\n",
        "    print(\"\\nWarning: Google Drive (MyDrive) is not mounted or accessible. Please ensure it's mounted.\")\n"
      ],
      "metadata": {
        "colab": {
          "base_uri": "https://localhost:8080/",
          "height": 489
        },
        "id": "FAYWx4oFc-sj",
        "outputId": "4084e8bb-3a2f-495a-c3e7-0222af2af3a7"
      },
      "execution_count": null,
      "outputs": [
        {
          "output_type": "stream",
          "name": "stdout",
          "text": [
            "Attempting to load model from: /content/drive/MyDrive/Teeth_Model_Checkpoints_ResNet50V2/final_teeth_classification_model.keras\n",
            "\n",
            "Success: Model loaded successfully in a separate cell!\n"
          ]
        },
        {
          "output_type": "display_data",
          "data": {
            "text/plain": [
              "\u001b[1mModel: \"sequential_1\"\u001b[0m\n"
            ],
            "text/html": [
              "<pre style=\"white-space:pre;overflow-x:auto;line-height:normal;font-family:Menlo,'DejaVu Sans Mono',consolas,'Courier New',monospace\"><span style=\"font-weight: bold\">Model: \"sequential_1\"</span>\n",
              "</pre>\n"
            ]
          },
          "metadata": {}
        },
        {
          "output_type": "display_data",
          "data": {
            "text/plain": [
              "┏━━━━━━━━━━━━━━━━━━━━━━━━━━━━━━━━━┳━━━━━━━━━━━━━━━━━━━━━━━━┳━━━━━━━━━━━━━━━┓\n",
              "┃\u001b[1m \u001b[0m\u001b[1mLayer (type)                   \u001b[0m\u001b[1m \u001b[0m┃\u001b[1m \u001b[0m\u001b[1mOutput Shape          \u001b[0m\u001b[1m \u001b[0m┃\u001b[1m \u001b[0m\u001b[1m      Param #\u001b[0m\u001b[1m \u001b[0m┃\n",
              "┡━━━━━━━━━━━━━━━━━━━━━━━━━━━━━━━━━╇━━━━━━━━━━━━━━━━━━━━━━━━╇━━━━━━━━━━━━━━━┩\n",
              "│ sequential (\u001b[38;5;33mSequential\u001b[0m)         │ (\u001b[38;5;45mNone\u001b[0m, \u001b[38;5;34m224\u001b[0m, \u001b[38;5;34m224\u001b[0m, \u001b[38;5;34m3\u001b[0m)    │             \u001b[38;5;34m0\u001b[0m │\n",
              "├─────────────────────────────────┼────────────────────────┼───────────────┤\n",
              "│ resnet50v2 (\u001b[38;5;33mFunctional\u001b[0m)         │ (\u001b[38;5;45mNone\u001b[0m, \u001b[38;5;34m7\u001b[0m, \u001b[38;5;34m7\u001b[0m, \u001b[38;5;34m2048\u001b[0m)     │    \u001b[38;5;34m23,564,800\u001b[0m │\n",
              "├─────────────────────────────────┼────────────────────────┼───────────────┤\n",
              "│ global_average_pooling2d        │ (\u001b[38;5;45mNone\u001b[0m, \u001b[38;5;34m2048\u001b[0m)           │             \u001b[38;5;34m0\u001b[0m │\n",
              "│ (\u001b[38;5;33mGlobalAveragePooling2D\u001b[0m)        │                        │               │\n",
              "├─────────────────────────────────┼────────────────────────┼───────────────┤\n",
              "│ dense (\u001b[38;5;33mDense\u001b[0m)                   │ (\u001b[38;5;45mNone\u001b[0m, \u001b[38;5;34m256\u001b[0m)            │       \u001b[38;5;34m524,544\u001b[0m │\n",
              "├─────────────────────────────────┼────────────────────────┼───────────────┤\n",
              "│ dropout (\u001b[38;5;33mDropout\u001b[0m)               │ (\u001b[38;5;45mNone\u001b[0m, \u001b[38;5;34m256\u001b[0m)            │             \u001b[38;5;34m0\u001b[0m │\n",
              "├─────────────────────────────────┼────────────────────────┼───────────────┤\n",
              "│ dense_1 (\u001b[38;5;33mDense\u001b[0m)                 │ (\u001b[38;5;45mNone\u001b[0m, \u001b[38;5;34m128\u001b[0m)            │        \u001b[38;5;34m32,896\u001b[0m │\n",
              "├─────────────────────────────────┼────────────────────────┼───────────────┤\n",
              "│ dropout_1 (\u001b[38;5;33mDropout\u001b[0m)             │ (\u001b[38;5;45mNone\u001b[0m, \u001b[38;5;34m128\u001b[0m)            │             \u001b[38;5;34m0\u001b[0m │\n",
              "├─────────────────────────────────┼────────────────────────┼───────────────┤\n",
              "│ dense_2 (\u001b[38;5;33mDense\u001b[0m)                 │ (\u001b[38;5;45mNone\u001b[0m, \u001b[38;5;34m7\u001b[0m)              │           \u001b[38;5;34m903\u001b[0m │\n",
              "└─────────────────────────────────┴────────────────────────┴───────────────┘\n"
            ],
            "text/html": [
              "<pre style=\"white-space:pre;overflow-x:auto;line-height:normal;font-family:Menlo,'DejaVu Sans Mono',consolas,'Courier New',monospace\">┏━━━━━━━━━━━━━━━━━━━━━━━━━━━━━━━━━┳━━━━━━━━━━━━━━━━━━━━━━━━┳━━━━━━━━━━━━━━━┓\n",
              "┃<span style=\"font-weight: bold\"> Layer (type)                    </span>┃<span style=\"font-weight: bold\"> Output Shape           </span>┃<span style=\"font-weight: bold\">       Param # </span>┃\n",
              "┡━━━━━━━━━━━━━━━━━━━━━━━━━━━━━━━━━╇━━━━━━━━━━━━━━━━━━━━━━━━╇━━━━━━━━━━━━━━━┩\n",
              "│ sequential (<span style=\"color: #0087ff; text-decoration-color: #0087ff\">Sequential</span>)         │ (<span style=\"color: #00d7ff; text-decoration-color: #00d7ff\">None</span>, <span style=\"color: #00af00; text-decoration-color: #00af00\">224</span>, <span style=\"color: #00af00; text-decoration-color: #00af00\">224</span>, <span style=\"color: #00af00; text-decoration-color: #00af00\">3</span>)    │             <span style=\"color: #00af00; text-decoration-color: #00af00\">0</span> │\n",
              "├─────────────────────────────────┼────────────────────────┼───────────────┤\n",
              "│ resnet50v2 (<span style=\"color: #0087ff; text-decoration-color: #0087ff\">Functional</span>)         │ (<span style=\"color: #00d7ff; text-decoration-color: #00d7ff\">None</span>, <span style=\"color: #00af00; text-decoration-color: #00af00\">7</span>, <span style=\"color: #00af00; text-decoration-color: #00af00\">7</span>, <span style=\"color: #00af00; text-decoration-color: #00af00\">2048</span>)     │    <span style=\"color: #00af00; text-decoration-color: #00af00\">23,564,800</span> │\n",
              "├─────────────────────────────────┼────────────────────────┼───────────────┤\n",
              "│ global_average_pooling2d        │ (<span style=\"color: #00d7ff; text-decoration-color: #00d7ff\">None</span>, <span style=\"color: #00af00; text-decoration-color: #00af00\">2048</span>)           │             <span style=\"color: #00af00; text-decoration-color: #00af00\">0</span> │\n",
              "│ (<span style=\"color: #0087ff; text-decoration-color: #0087ff\">GlobalAveragePooling2D</span>)        │                        │               │\n",
              "├─────────────────────────────────┼────────────────────────┼───────────────┤\n",
              "│ dense (<span style=\"color: #0087ff; text-decoration-color: #0087ff\">Dense</span>)                   │ (<span style=\"color: #00d7ff; text-decoration-color: #00d7ff\">None</span>, <span style=\"color: #00af00; text-decoration-color: #00af00\">256</span>)            │       <span style=\"color: #00af00; text-decoration-color: #00af00\">524,544</span> │\n",
              "├─────────────────────────────────┼────────────────────────┼───────────────┤\n",
              "│ dropout (<span style=\"color: #0087ff; text-decoration-color: #0087ff\">Dropout</span>)               │ (<span style=\"color: #00d7ff; text-decoration-color: #00d7ff\">None</span>, <span style=\"color: #00af00; text-decoration-color: #00af00\">256</span>)            │             <span style=\"color: #00af00; text-decoration-color: #00af00\">0</span> │\n",
              "├─────────────────────────────────┼────────────────────────┼───────────────┤\n",
              "│ dense_1 (<span style=\"color: #0087ff; text-decoration-color: #0087ff\">Dense</span>)                 │ (<span style=\"color: #00d7ff; text-decoration-color: #00d7ff\">None</span>, <span style=\"color: #00af00; text-decoration-color: #00af00\">128</span>)            │        <span style=\"color: #00af00; text-decoration-color: #00af00\">32,896</span> │\n",
              "├─────────────────────────────────┼────────────────────────┼───────────────┤\n",
              "│ dropout_1 (<span style=\"color: #0087ff; text-decoration-color: #0087ff\">Dropout</span>)             │ (<span style=\"color: #00d7ff; text-decoration-color: #00d7ff\">None</span>, <span style=\"color: #00af00; text-decoration-color: #00af00\">128</span>)            │             <span style=\"color: #00af00; text-decoration-color: #00af00\">0</span> │\n",
              "├─────────────────────────────────┼────────────────────────┼───────────────┤\n",
              "│ dense_2 (<span style=\"color: #0087ff; text-decoration-color: #0087ff\">Dense</span>)                 │ (<span style=\"color: #00d7ff; text-decoration-color: #00d7ff\">None</span>, <span style=\"color: #00af00; text-decoration-color: #00af00\">7</span>)              │           <span style=\"color: #00af00; text-decoration-color: #00af00\">903</span> │\n",
              "└─────────────────────────────────┴────────────────────────┴───────────────┘\n",
              "</pre>\n"
            ]
          },
          "metadata": {}
        },
        {
          "output_type": "display_data",
          "data": {
            "text/plain": [
              "\u001b[1m Total params: \u001b[0m\u001b[38;5;34m72,278,551\u001b[0m (275.72 MB)\n"
            ],
            "text/html": [
              "<pre style=\"white-space:pre;overflow-x:auto;line-height:normal;font-family:Menlo,'DejaVu Sans Mono',consolas,'Courier New',monospace\"><span style=\"font-weight: bold\"> Total params: </span><span style=\"color: #00af00; text-decoration-color: #00af00\">72,278,551</span> (275.72 MB)\n",
              "</pre>\n"
            ]
          },
          "metadata": {}
        },
        {
          "output_type": "display_data",
          "data": {
            "text/plain": [
              "\u001b[1m Trainable params: \u001b[0m\u001b[38;5;34m24,077,703\u001b[0m (91.85 MB)\n"
            ],
            "text/html": [
              "<pre style=\"white-space:pre;overflow-x:auto;line-height:normal;font-family:Menlo,'DejaVu Sans Mono',consolas,'Courier New',monospace\"><span style=\"font-weight: bold\"> Trainable params: </span><span style=\"color: #00af00; text-decoration-color: #00af00\">24,077,703</span> (91.85 MB)\n",
              "</pre>\n"
            ]
          },
          "metadata": {}
        },
        {
          "output_type": "display_data",
          "data": {
            "text/plain": [
              "\u001b[1m Non-trainable params: \u001b[0m\u001b[38;5;34m45,440\u001b[0m (177.50 KB)\n"
            ],
            "text/html": [
              "<pre style=\"white-space:pre;overflow-x:auto;line-height:normal;font-family:Menlo,'DejaVu Sans Mono',consolas,'Courier New',monospace\"><span style=\"font-weight: bold\"> Non-trainable params: </span><span style=\"color: #00af00; text-decoration-color: #00af00\">45,440</span> (177.50 KB)\n",
              "</pre>\n"
            ]
          },
          "metadata": {}
        },
        {
          "output_type": "display_data",
          "data": {
            "text/plain": [
              "\u001b[1m Optimizer params: \u001b[0m\u001b[38;5;34m48,155,408\u001b[0m (183.70 MB)\n"
            ],
            "text/html": [
              "<pre style=\"white-space:pre;overflow-x:auto;line-height:normal;font-family:Menlo,'DejaVu Sans Mono',consolas,'Courier New',monospace\"><span style=\"font-weight: bold\"> Optimizer params: </span><span style=\"color: #00af00; text-decoration-color: #00af00\">48,155,408</span> (183.70 MB)\n",
              "</pre>\n"
            ]
          },
          "metadata": {}
        }
      ]
    },
    {
      "cell_type": "markdown",
      "source": [],
      "metadata": {
        "id": "vw9llHaDXJ6h"
      }
    }
  ]
}